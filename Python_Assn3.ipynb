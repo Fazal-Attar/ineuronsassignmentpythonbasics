{
 "cells": [
  {
   "cell_type": "markdown",
   "id": "f2f5c14a-c821-41fb-bcc8-b26035817a97",
   "metadata": {},
   "source": [
    "# 1.Why are functions advantageous to have in your programs?"
   ]
  },
  {
   "cell_type": "raw",
   "id": "51c62ac2-b11d-4c9d-8441-0d66989215a8",
   "metadata": {},
   "source": [
    "Ans.The Function help make program shorter, easier to read and easier to update.The main advantage of function is code reusability."
   ]
  },
  {
   "cell_type": "code",
   "execution_count": null,
   "id": "8b0ce892-3f2b-481c-bd16-385d82e29f51",
   "metadata": {},
   "outputs": [],
   "source": []
  },
  {
   "cell_type": "markdown",
   "id": "839d0da5-183d-4c74-8777-73db96a6947d",
   "metadata": {},
   "source": [
    "# 2. When does the code in a function run: when it's specified or when it's called?"
   ]
  },
  {
   "cell_type": "raw",
   "id": "09ed8566-fc00-4617-bcdf-f80800f048bc",
   "metadata": {},
   "source": [
    "ANS: The code in a function executes when the function is called not when the function is specified."
   ]
  },
  {
   "cell_type": "code",
   "execution_count": null,
   "id": "defca572-dc16-4bcd-a83e-af0059b13a09",
   "metadata": {},
   "outputs": [],
   "source": []
  },
  {
   "cell_type": "markdown",
   "id": "1083d59c-dac7-44b8-9dea-47e454e6f499",
   "metadata": {},
   "source": [
    "# 3. What statement creates a function?"
   ]
  },
  {
   "cell_type": "raw",
   "id": "22ba58a2-0bd6-4256-a078-1b98a4a89c9c",
   "metadata": {},
   "source": [
    "ANS: The def statement defines a function"
   ]
  },
  {
   "cell_type": "code",
   "execution_count": null,
   "id": "67dd5d3a-0032-41d9-9da8-9df5b718e48f",
   "metadata": {},
   "outputs": [],
   "source": []
  },
  {
   "cell_type": "markdown",
   "id": "b76e9f67-89df-4d48-b202-fe349c15bcc6",
   "metadata": {},
   "source": [
    "# 4.What is the difference between a function and a function call?"
   ]
  },
  {
   "cell_type": "raw",
   "id": "e40c2890-099f-46e6-b10c-4584b9be8ac7",
   "metadata": {},
   "source": [
    "ANS: A function is procedure to achieve a particular result. while function call is using this function to achive that task using a function to do a particular task any point in program is called as function call."
   ]
  },
  {
   "cell_type": "code",
   "execution_count": null,
   "id": "47d01149-aaf7-4f00-92a1-5960601954a7",
   "metadata": {},
   "outputs": [],
   "source": []
  },
  {
   "cell_type": "markdown",
   "id": "c1f34567-f239-42d9-a0cc-c2161ffa4995",
   "metadata": {},
   "source": [
    "# 5. How many global scopes are there in a Python program? How many local scopes?"
   ]
  },
  {
   "cell_type": "raw",
   "id": "b524a501-ff29-40a3-9e0c-461e421f96cc",
   "metadata": {},
   "source": [
    "ANS : There is one global scope, and a local scope is created whenever a function is called."
   ]
  },
  {
   "cell_type": "code",
   "execution_count": null,
   "id": "32aea008-e4ad-4284-9869-2886dc4934ab",
   "metadata": {},
   "outputs": [],
   "source": []
  },
  {
   "cell_type": "markdown",
   "id": "1783c44c-89df-4a77-90b9-6d75259869df",
   "metadata": {},
   "source": [
    "# 6. What happens to variables in a local scope when the function call returns?"
   ]
  },
  {
   "cell_type": "raw",
   "id": "544c4737-f5f5-40bf-8518-a8dff8aa1575",
   "metadata": {},
   "source": [
    "ANS: When a function returns, the local scope is destroyed, and all the variables in it are forgotten."
   ]
  },
  {
   "cell_type": "code",
   "execution_count": null,
   "id": "1e455eb2-378d-4d94-9dc1-87db7cc9dca3",
   "metadata": {},
   "outputs": [],
   "source": []
  },
  {
   "cell_type": "markdown",
   "id": "32ea1991-e279-45d7-b137-fce56fc79d6b",
   "metadata": {},
   "source": [
    "# 7. What is the concept of a return value? Is it possible to have a return value in an expression?"
   ]
  },
  {
   "cell_type": "raw",
   "id": "50749145-446b-4940-a71d-d21b8e1d1e9d",
   "metadata": {},
   "source": [
    "ANS : A return value is the value that a function call evaluates to. Like any value, a return value can be used as part of an expression."
   ]
  },
  {
   "cell_type": "code",
   "execution_count": null,
   "id": "bf356d7b-fa0c-4a15-a040-c8c7036d0f41",
   "metadata": {},
   "outputs": [],
   "source": []
  },
  {
   "cell_type": "markdown",
   "id": "e4edaf25-6b8a-49b4-95a1-43e07b859c21",
   "metadata": {},
   "source": [
    "# 8.If a function does not have a return statement, what is the return value of a call to that function?"
   ]
  },
  {
   "cell_type": "raw",
   "id": "4d54a846-7c08-49e3-9c8f-05391e6a5176",
   "metadata": {},
   "source": [
    "Ans: If there is no return statement for a function, its return value is None."
   ]
  },
  {
   "cell_type": "code",
   "execution_count": null,
   "id": "614d78b5-c757-4fdd-9397-8665a4d5183d",
   "metadata": {},
   "outputs": [],
   "source": []
  },
  {
   "cell_type": "markdown",
   "id": "86244d8f-e2bf-4dc8-9c72-8fdf81973005",
   "metadata": {},
   "source": [
    "# 9.How do you make a function variable refer to the global variable?"
   ]
  },
  {
   "cell_type": "raw",
   "id": "4b9db9ed-fd71-4e44-8600-51398c5c9d3a",
   "metadata": {},
   "source": [
    "ANS: A global statement will force a variable in a function to refer to the global variable. If you want to refer to a global variable in a function, you can use the GLOBAL keyword to declare which variables are global."
   ]
  },
  {
   "cell_type": "code",
   "execution_count": null,
   "id": "c6aaf465-3880-4347-a9a7-7e261e37eb3c",
   "metadata": {},
   "outputs": [],
   "source": []
  },
  {
   "cell_type": "markdown",
   "id": "ff6d913a-89ec-4c43-a7d2-d9563d1c1627",
   "metadata": {},
   "source": [
    "# 10. What is the data type of None?"
   ]
  },
  {
   "cell_type": "raw",
   "id": "c823cce1-e878-4e49-bf6d-233ec35bef70",
   "metadata": {},
   "source": [
    "Ans: The data type of None is NoneType."
   ]
  },
  {
   "cell_type": "code",
   "execution_count": null,
   "id": "54619da3-d05d-4786-ae69-e9d615da646d",
   "metadata": {},
   "outputs": [],
   "source": []
  },
  {
   "cell_type": "markdown",
   "id": "5e4d3922-b736-4a56-924d-4edd3800e554",
   "metadata": {},
   "source": [
    "# 11. What does the sentence import areallyourpetsnamederic do?"
   ]
  },
  {
   "cell_type": "raw",
   "id": "44deff39-9fc6-492e-b61f-8e418357e97e",
   "metadata": {},
   "source": [
    "Ans: That import statement imports a module named areallyourpetsnamederic."
   ]
  },
  {
   "cell_type": "code",
   "execution_count": null,
   "id": "55e51975-2af0-4abb-bf9e-eabdb08e2a31",
   "metadata": {},
   "outputs": [],
   "source": []
  },
  {
   "cell_type": "markdown",
   "id": "06c02bbc-ca60-4452-8bf8-ffb0534200d9",
   "metadata": {},
   "source": [
    "# 12. If you had a bacon() feature in a spam module, what would you call it after importing spam?"
   ]
  },
  {
   "cell_type": "raw",
   "id": "10ad1fbd-6243-4814-b3a3-7ae21db6a279",
   "metadata": {},
   "source": [
    "Ans: This function can be called with spam.bacon()."
   ]
  },
  {
   "cell_type": "code",
   "execution_count": null,
   "id": "ef008187-bc41-48c2-a900-b425497997bf",
   "metadata": {},
   "outputs": [],
   "source": []
  },
  {
   "cell_type": "markdown",
   "id": "4d51e19a-784a-4c8b-889e-c121699c55b2",
   "metadata": {},
   "source": [
    "# 13. What can you do to save a programme from crashing if it encounters an error?"
   ]
  },
  {
   "cell_type": "raw",
   "id": "aaaa2b76-3b4c-41e5-b1fe-3d6843e8285c",
   "metadata": {},
   "source": [
    "Ans: Place the line of code that might cause an error in a try clause and use except block to handle the error."
   ]
  },
  {
   "cell_type": "code",
   "execution_count": null,
   "id": "0ba01296-adab-4a72-97d2-5a56c35c8aef",
   "metadata": {},
   "outputs": [],
   "source": []
  },
  {
   "cell_type": "markdown",
   "id": "34283e0d-ecd4-4dde-b17b-6bbc3b09383f",
   "metadata": {},
   "source": [
    "# 14. What is the purpose of the try clause? What is the purpose of the except clause?"
   ]
  },
  {
   "cell_type": "raw",
   "id": "1fca0204-f5d1-401b-ba2a-5fdab9366ac1",
   "metadata": {},
   "source": [
    "ANS:The code that could potentially cause an error goes in the try clause. The code that executes if an error happens goes in the except clause."
   ]
  },
  {
   "cell_type": "code",
   "execution_count": null,
   "id": "4431b639-24f1-4b71-9d49-9f1ce2d6c9dc",
   "metadata": {},
   "outputs": [],
   "source": []
  }
 ],
 "metadata": {
  "kernelspec": {
   "display_name": "Python 3 (ipykernel)",
   "language": "python",
   "name": "python3"
  },
  "language_info": {
   "codemirror_mode": {
    "name": "ipython",
    "version": 3
   },
   "file_extension": ".py",
   "mimetype": "text/x-python",
   "name": "python",
   "nbconvert_exporter": "python",
   "pygments_lexer": "ipython3",
   "version": "3.10.6"
  }
 },
 "nbformat": 4,
 "nbformat_minor": 5
}
