{
 "cells": [
  {
   "cell_type": "markdown",
   "id": "4bebb909-bce6-45a5-9760-e932432f6547",
   "metadata": {},
   "source": [
    "# 1.Write a Python program to Extract Unique values dictionary values?"
   ]
  },
  {
   "cell_type": "code",
   "execution_count": 2,
   "id": "41f46360-7e4e-4b07-9628-679ff53848ac",
   "metadata": {},
   "outputs": [
    {
     "name": "stdout",
     "output_type": "stream",
     "text": [
      "dict_values(['abc', 2, 'Fazal'])\n"
     ]
    }
   ],
   "source": [
    "my_dict = {\"key1\":\"abc\",\"key2\":2,\"key3\":\"Fazal\"}\n",
    "out = my_dict.values()\n",
    "print(out)"
   ]
  },
  {
   "cell_type": "code",
   "execution_count": null,
   "id": "cc905014-391e-4c71-980a-24eea50734c4",
   "metadata": {},
   "outputs": [],
   "source": []
  },
  {
   "cell_type": "markdown",
   "id": "4413f697-86ea-41e7-87ce-ced15eccebad",
   "metadata": {},
   "source": [
    "# 2.Write a Python program to find the sum of all items in a dictionary?"
   ]
  },
  {
   "cell_type": "code",
   "execution_count": 5,
   "id": "3add95cc-08ed-4382-9683-822f09367792",
   "metadata": {},
   "outputs": [
    {
     "name": "stdout",
     "output_type": "stream",
     "text": [
      "There are total of 10 items in a basket\n"
     ]
    }
   ],
   "source": [
    "basket = {\"candy\":5,\"biscuits\":2,\"grocery\":3}\n",
    "print(f\"There are total of {sum(basket.values())} items in a basket\")"
   ]
  },
  {
   "cell_type": "code",
   "execution_count": null,
   "id": "3d3be096-423d-447c-82d7-1a8741b7f051",
   "metadata": {},
   "outputs": [],
   "source": []
  },
  {
   "cell_type": "markdown",
   "id": "550688e3-03db-4e10-9945-7899a705ff70",
   "metadata": {},
   "source": [
    "# 3.Write a Python program to Merging two Dictionaries?"
   ]
  },
  {
   "cell_type": "code",
   "execution_count": 14,
   "id": "14ca3b5e-0c21-4bfd-b1f0-2e0ed16802e2",
   "metadata": {},
   "outputs": [
    {
     "name": "stdout",
     "output_type": "stream",
     "text": [
      "{'honda': 'Accord', 'suzuki': 'wagonr'}\n"
     ]
    }
   ],
   "source": [
    "dict1 = {\"honda\":\"Accord\"}\n",
    "dict2 = {\"suzuki\":\"wagonr\"}\n",
    "dict1.update(dict2)\n",
    "print(dict1)"
   ]
  },
  {
   "cell_type": "code",
   "execution_count": null,
   "id": "276826a3-7f1a-4d46-b29f-c7b0880e646c",
   "metadata": {},
   "outputs": [],
   "source": []
  },
  {
   "cell_type": "markdown",
   "id": "130c8402-661e-480a-9b09-12f15b7bf8d9",
   "metadata": {},
   "source": [
    "# 4. Write a Python program to convert key-values list to flat dictionary?"
   ]
  },
  {
   "cell_type": "code",
   "execution_count": 17,
   "id": "d918ad7f-fe8b-44d1-a538-4ec93da7009f",
   "metadata": {},
   "outputs": [
    {
     "name": "stdout",
     "output_type": "stream",
     "text": [
      "{'vegetable': 'Peas', 'fruits': 'apple'}\n"
     ]
    }
   ],
   "source": [
    "a = [(\"vegetable\",\"Peas\"),(\"fruits\",\"apple\")]\n",
    "b = dict(a)\n",
    "print(b)"
   ]
  },
  {
   "cell_type": "code",
   "execution_count": null,
   "id": "d7ea5e6d-6a86-4769-b9c2-d4d878392ab9",
   "metadata": {},
   "outputs": [],
   "source": []
  },
  {
   "cell_type": "markdown",
   "id": "ed93b6bb-c5d2-42e0-8704-6584720fdc5b",
   "metadata": {},
   "source": [
    "# 6.Write a Python program to check order of character in string using OrderedDict()?"
   ]
  },
  {
   "cell_type": "code",
   "execution_count": 22,
   "id": "eef6f59c-ae0d-4fe6-9b21-a39609730d8e",
   "metadata": {},
   "outputs": [
    {
     "name": "stdout",
     "output_type": "stream",
     "text": [
      "OrderedDict([('Fruits', '300'), ('Vegetable', '200')])\n"
     ]
    }
   ],
   "source": [
    "from collections import OrderedDict\n",
    "a = {\"Vegetable\":\"200\",\"Fruits\":\"300\"}\n",
    "b = OrderedDict(dict(sorted(a.items())))\n",
    "print(b)"
   ]
  },
  {
   "cell_type": "code",
   "execution_count": null,
   "id": "e51d955d-3fd5-4737-84df-d0a8e3cc1a9a",
   "metadata": {},
   "outputs": [],
   "source": []
  },
  {
   "cell_type": "markdown",
   "id": "90fb2eed-fdc3-4dc0-8952-5cfa99c8c7e3",
   "metadata": {},
   "source": [
    "# 7.Write a Python program to sort Python Dictionaries by Key or Value?"
   ]
  },
  {
   "cell_type": "code",
   "execution_count": 23,
   "id": "56416d9b-f956-41a5-8fbb-8773459411da",
   "metadata": {},
   "outputs": [
    {
     "name": "stdout",
     "output_type": "stream",
     "text": [
      "OrderedDict([('Fruits', 300), ('Vegetable', 200)])\n"
     ]
    }
   ],
   "source": [
    "a = {\"Vegetable\":200,\"Fruits\":300}\n",
    "b = OrderedDict(dict(sorted(a.items())))\n",
    "print(b)"
   ]
  },
  {
   "cell_type": "code",
   "execution_count": null,
   "id": "e2b3b9ab-7c00-47a3-8652-2cb1d636a321",
   "metadata": {},
   "outputs": [],
   "source": []
  }
 ],
 "metadata": {
  "kernelspec": {
   "display_name": "Python 3 (ipykernel)",
   "language": "python",
   "name": "python3"
  },
  "language_info": {
   "codemirror_mode": {
    "name": "ipython",
    "version": 3
   },
   "file_extension": ".py",
   "mimetype": "text/x-python",
   "name": "python",
   "nbconvert_exporter": "python",
   "pygments_lexer": "ipython3",
   "version": "3.10.6"
  }
 },
 "nbformat": 4,
 "nbformat_minor": 5
}
