{
 "cells": [
  {
   "cell_type": "markdown",
   "id": "895398c6-430b-437f-ba93-fbed6407a042",
   "metadata": {},
   "source": [
    "# 1.To what does a relative path refer ?"
   ]
  },
  {
   "cell_type": "raw",
   "id": "453eafb7-c48b-49b3-8624-3199afe93111",
   "metadata": {},
   "source": [
    "The relative path is the path to some file with respect to your current working directory (PWD). For example: if Absolute path to a file called stuff.txt is: C:/users/admin/docs/stuff.txt If my PWD is C:/users/admin/ , then the relative path to stuff.txt would be: docs/stuff.txt Note: PWD + relative path = absolute path"
   ]
  },
  {
   "cell_type": "code",
   "execution_count": null,
   "id": "810e29ce-6f7e-40ef-8df3-800c3b43f920",
   "metadata": {},
   "outputs": [],
   "source": []
  },
  {
   "cell_type": "markdown",
   "id": "178b6faa-9cde-4f65-a823-44a40979dbff",
   "metadata": {},
   "source": [
    "# 2.Where does an absolute path start with your Operating System ?"
   ]
  },
  {
   "cell_type": "raw",
   "id": "34205326-6a8e-45ce-b289-231d5f509862",
   "metadata": {},
   "source": [
    "In linux the absolute path starts with / (root) whereas in windows it starts with C:"
   ]
  },
  {
   "cell_type": "code",
   "execution_count": null,
   "id": "29695859-c71d-46df-8a88-76d3d13d1c52",
   "metadata": {},
   "outputs": [],
   "source": []
  },
  {
   "cell_type": "markdown",
   "id": "1aebc27d-1994-4438-97de-a2719352813d",
   "metadata": {},
   "source": [
    "# 3.What does the functions os.getcwd() and os.chdir() do ?"
   ]
  },
  {
   "cell_type": "raw",
   "id": "b9fb6ec5-4008-4257-83f8-8df3094a50cf",
   "metadata": {},
   "source": [
    "os.getcwd() returns the current working directory whereas the os.chdir() is used to change the current working directory"
   ]
  },
  {
   "cell_type": "code",
   "execution_count": null,
   "id": "1cc81839-48c4-4218-a745-31c4790f3369",
   "metadata": {},
   "outputs": [],
   "source": []
  },
  {
   "cell_type": "markdown",
   "id": "1d256eff-8f40-4ace-bf58-6c1f27fef4c3",
   "metadata": {},
   "source": [
    "# 4. What are . and .. folders ?"
   ]
  },
  {
   "cell_type": "raw",
   "id": "37306e9f-436b-4165-885b-ad21212e5044",
   "metadata": {},
   "source": [
    ". are the current folder and the .. are the parent folders of the current working folders"
   ]
  },
  {
   "cell_type": "code",
   "execution_count": null,
   "id": "6dd41c3e-271a-4eb1-bdd9-9bb2be32a98c",
   "metadata": {},
   "outputs": [],
   "source": []
  },
  {
   "cell_type": "markdown",
   "id": "e77a4b6e-4edc-4cc6-9c36-d90f95096a20",
   "metadata": {},
   "source": [
    "# 5.In C:\\bacon\\eggs\\spam.txt which part is the dir name and which part is the base name ?"
   ]
  },
  {
   "cell_type": "raw",
   "id": "85a4e14d-a500-45cb-897d-1671e028400c",
   "metadata": {},
   "source": [
    "C:\\bacon\\eggs is the directory name whereas the spam.txt is the base name."
   ]
  },
  {
   "cell_type": "code",
   "execution_count": null,
   "id": "e3cf75a3-25bf-4599-8d3b-8f13d49d8c93",
   "metadata": {},
   "outputs": [],
   "source": []
  },
  {
   "cell_type": "markdown",
   "id": "9d10b23c-fc02-415b-9aea-63192123594c",
   "metadata": {},
   "source": [
    "# 6.What are the three mode arguments that can be passed to the open() function ?"
   ]
  },
  {
   "cell_type": "raw",
   "id": "a6b60042-e454-4e43-8d90-c8fa6261d208",
   "metadata": {},
   "source": [
    "w (write) : this mode is used to open the file in the write mode. Using this mode you can overwrite the file and if the file is not present, it will create the file and perform the write operations.\n",
    "r (read): this mode is used to read the file. This is the default mode that is passed on a functions\n",
    "r+ (read/write): This mode is used to perform both the operations i.e read and write"
   ]
  },
  {
   "cell_type": "code",
   "execution_count": null,
   "id": "38796fb6-653a-4ddf-969b-dd701c312fbf",
   "metadata": {},
   "outputs": [],
   "source": []
  },
  {
   "cell_type": "markdown",
   "id": "9bc8993c-d2b9-44c5-aaf9-a6e939fbdac5",
   "metadata": {},
   "source": [
    "# 7.What happens if an existing file is opened in write mode ?"
   ]
  },
  {
   "cell_type": "raw",
   "id": "08f92068-a76f-41a7-8004-bb989424ebc5",
   "metadata": {},
   "source": [
    "It will overwrite in the existing file."
   ]
  },
  {
   "cell_type": "code",
   "execution_count": null,
   "id": "9efb4b31-7656-4ce1-b3dd-53d403986069",
   "metadata": {},
   "outputs": [],
   "source": []
  },
  {
   "cell_type": "markdown",
   "id": "ffa539ff-06a2-4ed7-812e-e88849a7a53d",
   "metadata": {},
   "source": [
    "# 8.How do you tell the difference between read() and readlines() ?"
   ]
  },
  {
   "cell_type": "raw",
   "id": "f3e9c0d1-9157-4b01-ab31-f9f83a103f23",
   "metadata": {},
   "source": [
    "The main difference is that read() will read the whole file at once and then print out the first characters that take up as many bytes as you specify in the parenthesis\n",
    "\n",
    "Whereas the readline() that will read and print out only the first characters that take up as many bytes as you specify in the parenthesis. You may want to use readline() when you're reading files that are too big for your RAM. The read() would treat each character in the file separately, meaning that the iteration would happen for every character. The readline() function, on the other hand, only reads a single line of the file. This means that if the first line of the file were three lines long, the readline() function would only parse (or iterate/operate) on the first line of the file."
   ]
  },
  {
   "cell_type": "code",
   "execution_count": null,
   "id": "66714593-6f45-46b1-83bf-34a140dfe05a",
   "metadata": {},
   "outputs": [],
   "source": []
  },
  {
   "cell_type": "markdown",
   "id": "47cbdb63-eb84-4a0d-852e-ee416d81b785",
   "metadata": {},
   "source": [
    "# 9.What data structure does a shelf value resemble ?"
   ]
  },
  {
   "cell_type": "raw",
   "id": "90e1f050-bfb1-4cd3-883a-529ac8a172de",
   "metadata": {},
   "source": [
    "It contains key and values it represents dictionary."
   ]
  }
 ],
 "metadata": {
  "kernelspec": {
   "display_name": "Python 3 (ipykernel)",
   "language": "python",
   "name": "python3"
  },
  "language_info": {
   "codemirror_mode": {
    "name": "ipython",
    "version": 3
   },
   "file_extension": ".py",
   "mimetype": "text/x-python",
   "name": "python",
   "nbconvert_exporter": "python",
   "pygments_lexer": "ipython3",
   "version": "3.10.6"
  }
 },
 "nbformat": 4,
 "nbformat_minor": 5
}
