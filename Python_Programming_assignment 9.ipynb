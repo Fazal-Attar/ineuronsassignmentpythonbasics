{
 "cells": [
  {
   "cell_type": "markdown",
   "id": "fd8defc8-5abf-47c5-93e7-5a1216d89f07",
   "metadata": {},
   "source": [
    "# 1. Write a Python Program to check if the given number is a Disarium Number ?"
   ]
  },
  {
   "cell_type": "code",
   "execution_count": 6,
   "id": "cd0025a6-53dd-4b3d-803c-501d780a236a",
   "metadata": {},
   "outputs": [
    {
     "name": "stdin",
     "output_type": "stream",
     "text": [
      "Enter the number to find whether its a disarium or not:  135\n"
     ]
    },
    {
     "name": "stdout",
     "output_type": "stream",
     "text": [
      "The given number is a disarium number\n"
     ]
    }
   ],
   "source": [
    "def disarium():\n",
    "    num = input(\"Enter the number to find whether its a disarium or not: \")\n",
    "    suma = 0\n",
    "    for i in range(len(num)):\n",
    "        #print(i)\n",
    "        suma = suma + int(num[i])**(i+1)\n",
    "    if int(num) == suma:\n",
    "        print(\"The given number is a disarium number\")\n",
    "    else:\n",
    "        print(\"The number is not a disarium number\")\n",
    "                \n",
    "disarium()"
   ]
  },
  {
   "cell_type": "code",
   "execution_count": null,
   "id": "2f88eaeb-e533-440c-b740-4ca65d999578",
   "metadata": {},
   "outputs": [],
   "source": []
  },
  {
   "cell_type": "markdown",
   "id": "241ee3d2-3e2f-4c78-b72c-20d620fe622e",
   "metadata": {},
   "source": [
    "# 2.Write a Python Program to print all Disarium numbers between 1 to 100 ?"
   ]
  },
  {
   "cell_type": "code",
   "execution_count": 20,
   "id": "f9c3000a-9538-452c-8cf5-b078f555f8c1",
   "metadata": {},
   "outputs": [
    {
     "data": {
      "text/plain": [
       "[1, 2, 3, 4, 5, 6, 7, 8, 9, 89]"
      ]
     },
     "execution_count": 20,
     "metadata": {},
     "output_type": "execute_result"
    }
   ],
   "source": [
    "def checkdisarium(start=1,end=100):\n",
    "    num = []\n",
    "    for i in range(start,end+1):\n",
    "        #print(i)\n",
    "        suma = 0 \n",
    "        for j in range (len(str(i))):\n",
    "            suma = suma + int(str(i)[j])**(j+1)\n",
    "        if suma == i:\n",
    "            num.append(i)\n",
    "    return num\n",
    "checkdisarium()"
   ]
  },
  {
   "cell_type": "code",
   "execution_count": null,
   "id": "6d9a684c-786f-4def-acb5-fc098b83fcff",
   "metadata": {},
   "outputs": [],
   "source": []
  },
  {
   "cell_type": "markdown",
   "id": "89e77040-591f-4bd6-a7ee-6de54796204d",
   "metadata": {},
   "source": [
    "# 3.Write a Python Program to check if the given number is Happy Number ?"
   ]
  },
  {
   "cell_type": "code",
   "execution_count": 31,
   "id": "88bebabf-7028-4d22-9466-9e31f6c1a7b4",
   "metadata": {},
   "outputs": [
    {
     "name": "stdin",
     "output_type": "stream",
     "text": [
      "Enter a Number:  123\n"
     ]
    },
    {
     "name": "stdout",
     "output_type": "stream",
     "text": [
      "123 is not a Happy Number\n"
     ]
    },
    {
     "name": "stdin",
     "output_type": "stream",
     "text": [
      "Enter a Number:  23\n"
     ]
    },
    {
     "name": "stdout",
     "output_type": "stream",
     "text": [
      "23 is a Happy Number\n"
     ]
    }
   ],
   "source": [
    "def checkHappyNumber():\n",
    "    in_num = input('Enter a Number: ')\n",
    "    in_num_duplicate = in_num\n",
    "    trackNumber = set()   \n",
    "    while True:\n",
    "        if in_num != '1' and str(in_num) not in trackNumber:\n",
    "            trackNumber.add(in_num)\n",
    "            sum = 0\n",
    "            for ele in range(len((in_num))):\n",
    "                sum = sum + int(in_num[ele])**2\n",
    "            in_num = str(sum)\n",
    "        elif str(in_num) in trackNumber:\n",
    "            print(f'{in_num_duplicate} is not a Happy Number')\n",
    "            break\n",
    "        else:\n",
    "            print(f'{in_num_duplicate} is a Happy Number')\n",
    "            break\n",
    "\n",
    "checkHappyNumber()\n",
    "checkHappyNumber()"
   ]
  },
  {
   "cell_type": "code",
   "execution_count": null,
   "id": "f5e39ba6-49f0-4f18-895c-20fded0f9d3b",
   "metadata": {},
   "outputs": [],
   "source": []
  },
  {
   "cell_type": "markdown",
   "id": "83a085e2-4d1b-42d4-b3dc-44f2bf0d7c22",
   "metadata": {},
   "source": [
    "# 4.Write a Python Program to print all Happy numbers between 1 and 100 ?"
   ]
  },
  {
   "cell_type": "code",
   "execution_count": 32,
   "id": "b6c57cd9-8b59-449e-9fe5-b49f9703ed70",
   "metadata": {},
   "outputs": [
    {
     "name": "stdout",
     "output_type": "stream",
     "text": [
      "The Happy Numbers between 0 and 100 are [1, 7, 10, 13, 19, 23, 28, 31, 32, 44, 49, 68, 70, 79, 82, 86, 91, 94, 97, 100]\n"
     ]
    }
   ],
   "source": [
    "def checkHappyNumber(start=0,end=100):\n",
    "    happyNumbersList = []\n",
    "    for in_num in range(start,end+1):\n",
    "        in_num = str(in_num)\n",
    "        inum_holder = in_num\n",
    "        trackNumber = set()   \n",
    "        while True:\n",
    "            if in_num != '1' and str(in_num) not in trackNumber:\n",
    "                trackNumber.add(in_num)\n",
    "                sum = 0\n",
    "                for ele in range(len((in_num))):\n",
    "                    sum = sum + int(in_num[ele])**2\n",
    "                in_num = str(sum)\n",
    "            elif str(in_num) in trackNumber:\n",
    "                break\n",
    "            else:\n",
    "                happyNumbersList.append(int(inum_holder))\n",
    "                break\n",
    "    print(f'The Happy Numbers between {start} and {end} are {happyNumbersList}')\n",
    "    \n",
    "checkHappyNumber(0,100)"
   ]
  },
  {
   "cell_type": "code",
   "execution_count": null,
   "id": "468d356a-4df5-4968-899f-63081a9e34f0",
   "metadata": {},
   "outputs": [],
   "source": []
  },
  {
   "cell_type": "markdown",
   "id": "a8c15159-ce22-4f85-9786-6829210e940e",
   "metadata": {},
   "source": [
    "# 5.Write a Python Program to determine whether the given number is a Harshad Number ?"
   ]
  },
  {
   "cell_type": "code",
   "execution_count": 25,
   "id": "149daa8c-df76-44b5-abe1-d4cc3bcb53b8",
   "metadata": {},
   "outputs": [
    {
     "name": "stdin",
     "output_type": "stream",
     "text": [
      "Enter the number: 152\n"
     ]
    },
    {
     "name": "stdout",
     "output_type": "stream",
     "text": [
      "The given number is harshad number\n"
     ]
    }
   ],
   "source": [
    "def harshadnumber():\n",
    "    num = input(\"Enter the number:\")\n",
    "    suma = 0\n",
    "    for i in range(len(num)):\n",
    "        suma = suma + int(num[i])\n",
    "    if int(num)%suma==0:\n",
    "        print(\"The given number is harshad number\")\n",
    "    else:\n",
    "        print(\"The given number is not a harshad number\")\n",
    "harshadnumber()"
   ]
  },
  {
   "cell_type": "code",
   "execution_count": null,
   "id": "70b4272e-e67e-474b-abeb-abc31d416d3e",
   "metadata": {},
   "outputs": [],
   "source": []
  },
  {
   "cell_type": "markdown",
   "id": "3b82bad6-c559-4ea1-98d7-fa005f8a6f0b",
   "metadata": {},
   "source": [
    "# 6.Write a Python Program to print all pronic numbers between 1 and 100 ?"
   ]
  },
  {
   "cell_type": "code",
   "execution_count": 30,
   "id": "70528931-5a5b-4532-ad4d-9df1e93a2ba1",
   "metadata": {},
   "outputs": [
    {
     "data": {
      "text/plain": [
       "[0,\n",
       " 2,\n",
       " 6,\n",
       " 12,\n",
       " 20,\n",
       " 30,\n",
       " 42,\n",
       " 56,\n",
       " 72,\n",
       " 90,\n",
       " 110,\n",
       " 132,\n",
       " 156,\n",
       " 182,\n",
       " 210,\n",
       " 240,\n",
       " 272,\n",
       " 306,\n",
       " 342,\n",
       " 380,\n",
       " 420,\n",
       " 462,\n",
       " 506,\n",
       " 552,\n",
       " 600,\n",
       " 650,\n",
       " 702,\n",
       " 756,\n",
       " 812,\n",
       " 870,\n",
       " 930,\n",
       " 992,\n",
       " 1056,\n",
       " 1122,\n",
       " 1190,\n",
       " 1260,\n",
       " 1332,\n",
       " 1406,\n",
       " 1482,\n",
       " 1560,\n",
       " 1640,\n",
       " 1722,\n",
       " 1806,\n",
       " 1892,\n",
       " 1980,\n",
       " 2070,\n",
       " 2162,\n",
       " 2256,\n",
       " 2352,\n",
       " 2450,\n",
       " 2550,\n",
       " 2652,\n",
       " 2756,\n",
       " 2862,\n",
       " 2970,\n",
       " 3080,\n",
       " 3192,\n",
       " 3306,\n",
       " 3422,\n",
       " 3540,\n",
       " 3660,\n",
       " 3782,\n",
       " 3906,\n",
       " 4032,\n",
       " 4160,\n",
       " 4290,\n",
       " 4422,\n",
       " 4556,\n",
       " 4692,\n",
       " 4830,\n",
       " 4970,\n",
       " 5112,\n",
       " 5256,\n",
       " 5402,\n",
       " 5550,\n",
       " 5700,\n",
       " 5852,\n",
       " 6006,\n",
       " 6162,\n",
       " 6320,\n",
       " 6480,\n",
       " 6642,\n",
       " 6806,\n",
       " 6972,\n",
       " 7140,\n",
       " 7310,\n",
       " 7482,\n",
       " 7656,\n",
       " 7832,\n",
       " 8010,\n",
       " 8190,\n",
       " 8372,\n",
       " 8556,\n",
       " 8742,\n",
       " 8930,\n",
       " 9120,\n",
       " 9312,\n",
       " 9506,\n",
       " 9702,\n",
       " 9900,\n",
       " 10100]"
      ]
     },
     "execution_count": 30,
     "metadata": {},
     "output_type": "execute_result"
    }
   ],
   "source": [
    "def pronic():\n",
    "    num = []\n",
    "    n =0\n",
    "    for i in range(0,101):\n",
    "        #print(i)\n",
    "        n = (i)*(i+1)\n",
    "        num.append(n)\n",
    "    return num\n",
    "pronic()"
   ]
  },
  {
   "cell_type": "code",
   "execution_count": null,
   "id": "5118cb52-44d8-4a20-a874-bcc778abad16",
   "metadata": {},
   "outputs": [],
   "source": []
  }
 ],
 "metadata": {
  "kernelspec": {
   "display_name": "Python 3 (ipykernel)",
   "language": "python",
   "name": "python3"
  },
  "language_info": {
   "codemirror_mode": {
    "name": "ipython",
    "version": 3
   },
   "file_extension": ".py",
   "mimetype": "text/x-python",
   "name": "python",
   "nbconvert_exporter": "python",
   "pygments_lexer": "ipython3",
   "version": "3.10.6"
  }
 },
 "nbformat": 4,
 "nbformat_minor": 5
}
