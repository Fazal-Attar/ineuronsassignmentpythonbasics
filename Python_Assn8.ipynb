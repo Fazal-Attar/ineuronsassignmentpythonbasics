{
 "cells": [
  {
   "cell_type": "markdown",
   "id": "6046b459-1f71-409d-86b8-50fdbb203e09",
   "metadata": {},
   "source": [
    "# 1. Is the Python Standard Library included with PyInputPlus?"
   ]
  },
  {
   "cell_type": "raw",
   "id": "801828bf-dd28-43aa-b3a4-66da6ca85627",
   "metadata": {},
   "source": [
    "No. PyInputPlus is not included in the standard library. We have to download it using \"pip install PyInputPlus\""
   ]
  },
  {
   "cell_type": "code",
   "execution_count": null,
   "id": "30607601-b000-43d5-8fff-d99f5b27f7d6",
   "metadata": {},
   "outputs": [],
   "source": []
  },
  {
   "cell_type": "markdown",
   "id": "b3943b99-1e7f-459c-a6e8-45b3003b4314",
   "metadata": {},
   "source": [
    "# 2. Why is PyInputPlus commonly imported with import pyinputplus as pypi?"
   ]
  },
  {
   "cell_type": "raw",
   "id": "a0903c8d-cfeb-48f7-914d-4329f24cfe13",
   "metadata": {},
   "source": [
    "Because the PyInputPlus module can be called using the shortest name in the program."
   ]
  },
  {
   "cell_type": "code",
   "execution_count": null,
   "id": "4a206fc9-d6bd-4ce0-a232-f53061153531",
   "metadata": {},
   "outputs": [],
   "source": []
  },
  {
   "cell_type": "markdown",
   "id": "a13d6ff6-3f64-45a1-b3df-154e27e77280",
   "metadata": {},
   "source": [
    "# 3. How do you distinguish between inputInt() and inputFloat()?"
   ]
  },
  {
   "cell_type": "raw",
   "id": "26ba4707-9be2-4b5a-9130-310ed431f1f2",
   "metadata": {},
   "source": [
    "InputInt() is used to define the integer input. We can also use the argument min & max to defined the minimum and maximum number\n",
    "InputFloat() is used to define the float input. We can also use the argument min & max to define the minimum and maximum"
   ]
  },
  {
   "cell_type": "code",
   "execution_count": null,
   "id": "28e6c5d8-ccd8-408f-af09-e8dea0ade142",
   "metadata": {},
   "outputs": [],
   "source": []
  },
  {
   "cell_type": "markdown",
   "id": "8f024a31-ed2a-461e-8f47-fdd6fb723a30",
   "metadata": {},
   "source": [
    "# 4. Using PyInputPlus, how do you ensure that the user enters a whole number between 0 and 99?"
   ]
  },
  {
   "cell_type": "raw",
   "id": "e223879d-411a-4d96-8fc2-74ea581214b6",
   "metadata": {},
   "source": [
    "We will define the PyInputPlus as integer so the user can only define the whole number. Also we will make sure that min & max is defined in the arguments so only the numbers are from 0 to 99 only."
   ]
  },
  {
   "cell_type": "code",
   "execution_count": 1,
   "id": "42230fe5-a8e1-4b10-a2f5-acba4acb2073",
   "metadata": {},
   "outputs": [
    {
     "name": "stdout",
     "output_type": "stream",
     "text": [
      "Collecting PyInputPlus\n",
      "  Downloading PyInputPlus-0.2.12.tar.gz (20 kB)\n",
      "  Installing build dependencies ... \u001b[?25ldone\n",
      "\u001b[?25h  Getting requirements to build wheel ... \u001b[?25ldone\n",
      "\u001b[?25h  Preparing metadata (pyproject.toml) ... \u001b[?25ldone\n",
      "\u001b[?25hCollecting pysimplevalidate>=0.2.7\n",
      "  Downloading PySimpleValidate-0.2.12.tar.gz (22 kB)\n",
      "  Installing build dependencies ... \u001b[?25ldone\n",
      "\u001b[?25h  Getting requirements to build wheel ... \u001b[?25ldone\n",
      "\u001b[?25h  Preparing metadata (pyproject.toml) ... \u001b[?25ldone\n",
      "\u001b[?25hCollecting stdiomask>=0.0.3\n",
      "  Downloading stdiomask-0.0.6.tar.gz (3.6 kB)\n",
      "  Installing build dependencies ... \u001b[?25ldone\n",
      "\u001b[?25h  Getting requirements to build wheel ... \u001b[?25ldone\n",
      "\u001b[?25h  Preparing metadata (pyproject.toml) ... \u001b[?25ldone\n",
      "\u001b[?25hBuilding wheels for collected packages: PyInputPlus, pysimplevalidate, stdiomask\n",
      "  Building wheel for PyInputPlus (pyproject.toml) ... \u001b[?25ldone\n",
      "\u001b[?25h  Created wheel for PyInputPlus: filename=PyInputPlus-0.2.12-py3-none-any.whl size=11298 sha256=10db7e17a110f560e55ff823e6b71226c6ff3597ac2bfd9d03f227d890cf1ecf\n",
      "  Stored in directory: /home/jovyan/.cache/pip/wheels/2d/72/d9/818396cecb072b3d697a47b007d9bbad74859a83a635e47d4d\n",
      "  Building wheel for pysimplevalidate (pyproject.toml) ... \u001b[?25ldone\n",
      "\u001b[?25h  Created wheel for pysimplevalidate: filename=PySimpleValidate-0.2.12-py3-none-any.whl size=16175 sha256=6bcd9a383b99d6bf0e84dbedf6ae084f3fb68f82f71c3d91c01a856fdc8333a8\n",
      "  Stored in directory: /home/jovyan/.cache/pip/wheels/05/ad/4d/7289d8b9a519e88167728584876a1a1073a3f71666d875aba7\n",
      "  Building wheel for stdiomask (pyproject.toml) ... \u001b[?25ldone\n",
      "\u001b[?25h  Created wheel for stdiomask: filename=stdiomask-0.0.6-py3-none-any.whl size=3306 sha256=2cc7f8a4a5db9ab0350430ff9a5aa8372a7471f532fd86afafe7402e3dfa4e7c\n",
      "  Stored in directory: /home/jovyan/.cache/pip/wheels/41/ee/55/6e4b70f6248b280caae3d938bc543206bb1a75988b739f1238\n",
      "Successfully built PyInputPlus pysimplevalidate stdiomask\n",
      "Installing collected packages: stdiomask, pysimplevalidate, PyInputPlus\n",
      "Successfully installed PyInputPlus-0.2.12 pysimplevalidate-0.2.12 stdiomask-0.0.6\n",
      "Note: you may need to restart the kernel to use updated packages.\n"
     ]
    }
   ],
   "source": [
    "pip install PyInputPlus"
   ]
  },
  {
   "cell_type": "code",
   "execution_count": 4,
   "id": "679d409c-ff8e-4570-a48c-da287f113bf6",
   "metadata": {},
   "outputs": [
    {
     "name": "stdout",
     "output_type": "stream",
     "text": [
      "Enter the number"
     ]
    },
    {
     "name": "stdin",
     "output_type": "stream",
     "text": [
      " 100\n"
     ]
    },
    {
     "name": "stdout",
     "output_type": "stream",
     "text": [
      "Number must be at maximum 99.\n",
      "Enter the number"
     ]
    },
    {
     "name": "stdin",
     "output_type": "stream",
     "text": [
      " 1\n"
     ]
    },
    {
     "name": "stdout",
     "output_type": "stream",
     "text": [
      "1\n"
     ]
    }
   ],
   "source": [
    "import pyinputplus as pyip\n",
    "n = pyip.inputInt(prompt=\"Enter the number\",min = 0, max = 99)\n",
    "print(n)"
   ]
  },
  {
   "cell_type": "code",
   "execution_count": null,
   "id": "e0631976-9b8b-4ede-8ba7-68dea39358fc",
   "metadata": {},
   "outputs": [],
   "source": []
  },
  {
   "cell_type": "markdown",
   "id": "6ac4adc4-b697-4d99-80a0-ad59de9b9c8a",
   "metadata": {},
   "source": [
    "# 5. What is transferred to the keyword arguments allowRegexes and blockRegexes?"
   ]
  },
  {
   "cell_type": "raw",
   "id": "9dbe876d-5a23-44b3-af59-f4e0ca4151a8",
   "metadata": {},
   "source": [
    "Allow Regexes is used to pass a string that will be allowed and block regex will be used to block, if the entered string is used "
   ]
  },
  {
   "cell_type": "code",
   "execution_count": null,
   "id": "37dce02d-3985-49f7-b655-8992deb2497e",
   "metadata": {},
   "outputs": [],
   "source": []
  },
  {
   "cell_type": "markdown",
   "id": "cf2ecc5b-415c-424f-ae58-834e4881c734",
   "metadata": {},
   "source": [
    "# 6.If blank input is entered three times, what does inputStr(limit=3, default='hello') do?"
   ]
  },
  {
   "cell_type": "raw",
   "id": "c05561ca-2786-407b-8e98-b1a5a3b29d96",
   "metadata": {},
   "source": [
    " Since the default parameter is set to hello. after blank input is entered three times instead of raising RetryLimitException exception. the function will return hello as response to the calling function"
   ]
  },
  {
   "cell_type": "code",
   "execution_count": null,
   "id": "864f4dc0-0023-46e6-82c0-10e6d499ee6d",
   "metadata": {},
   "outputs": [],
   "source": []
  }
 ],
 "metadata": {
  "kernelspec": {
   "display_name": "Python 3 (ipykernel)",
   "language": "python",
   "name": "python3"
  },
  "language_info": {
   "codemirror_mode": {
    "name": "ipython",
    "version": 3
   },
   "file_extension": ".py",
   "mimetype": "text/x-python",
   "name": "python",
   "nbconvert_exporter": "python",
   "pygments_lexer": "ipython3",
   "version": "3.10.6"
  }
 },
 "nbformat": 4,
 "nbformat_minor": 5
}
