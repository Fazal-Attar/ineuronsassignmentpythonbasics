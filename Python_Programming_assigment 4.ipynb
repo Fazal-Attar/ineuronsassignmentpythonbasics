{
 "cells": [
  {
   "cell_type": "markdown",
   "id": "798c69c5-e05e-4430-bb23-5f05fc9009ad",
   "metadata": {},
   "source": [
    "# 1.Write a Python Program to Find the Factorial of a Number?"
   ]
  },
  {
   "cell_type": "code",
   "execution_count": 15,
   "id": "fdda77c9-d70c-4ad0-b9a8-31a747a9fa45",
   "metadata": {},
   "outputs": [
    {
     "name": "stdin",
     "output_type": "stream",
     "text": [
      "Enter the number to find the factorial 4\n"
     ]
    },
    {
     "name": "stdout",
     "output_type": "stream",
     "text": [
      "24\n"
     ]
    }
   ],
   "source": [
    "fact = 1\n",
    "a = int(input(\"Enter the number to find the factorial\"))\n",
    "while a > 0:\n",
    "    fact = fact * a\n",
    "    a = a - 1\n",
    "print(f\"{fact}\")"
   ]
  },
  {
   "cell_type": "code",
   "execution_count": null,
   "id": "a132ba12-5004-44fa-abda-3c2afb16470a",
   "metadata": {},
   "outputs": [],
   "source": []
  },
  {
   "cell_type": "markdown",
   "id": "09f87db5-a072-4713-a1cd-1a0901e81920",
   "metadata": {},
   "source": [
    "# 2. Write a Python Program to Display the multiplication Table?"
   ]
  },
  {
   "cell_type": "code",
   "execution_count": 18,
   "id": "20e190c5-0dfa-4455-9353-45b8668c180a",
   "metadata": {},
   "outputs": [
    {
     "name": "stdin",
     "output_type": "stream",
     "text": [
      "Enter the number to find the multiplication of the table 10\n"
     ]
    },
    {
     "name": "stdout",
     "output_type": "stream",
     "text": [
      "10 x 1 = 10\n",
      "10 x 2 = 20\n",
      "10 x 3 = 30\n",
      "10 x 4 = 40\n",
      "10 x 5 = 50\n",
      "10 x 6 = 60\n",
      "10 x 7 = 70\n",
      "10 x 8 = 80\n",
      "10 x 9 = 90\n",
      "10 x 10 = 100\n"
     ]
    }
   ],
   "source": [
    "base = int(input(\"Enter the number to find the multiplication of the table\"))\n",
    "entries = 1\n",
    "while entries < 11:\n",
    "    mul = base * entries\n",
    "    print(f\"{base} x {entries} = {mul}\")\n",
    "    entries = entries + 1"
   ]
  },
  {
   "cell_type": "code",
   "execution_count": null,
   "id": "3a592a35-8dc1-4d5f-85f0-87e3312b9994",
   "metadata": {},
   "outputs": [],
   "source": []
  },
  {
   "cell_type": "markdown",
   "id": "c4b13174-a51b-487c-a597-b5ab756877c4",
   "metadata": {},
   "source": [
    "# 3 . Write a Python Program to print the fibonacci sequence ?"
   ]
  },
  {
   "cell_type": "code",
   "execution_count": 4,
   "id": "34489173-d219-49c7-b580-e71d6cac42ad",
   "metadata": {},
   "outputs": [
    {
     "name": "stdin",
     "output_type": "stream",
     "text": [
      "Enter the number to fidnd the fibonacci series:  8\n"
     ]
    },
    {
     "name": "stdout",
     "output_type": "stream",
     "text": [
      "[0, 1, 1, 2, 3, 5, 8, 13]\n"
     ]
    }
   ],
   "source": [
    "s_count = int(input(\"Enter the number to fidnd the fibonacci series: \"))\n",
    "ins_initial = [0,1]\n",
    "for i in range(s_count):\n",
    "    if i>=2:\n",
    "        ins_initial.append(ins_initial[i-1]+ins_initial[i-2])\n",
    "print(ins_initial)"
   ]
  },
  {
   "cell_type": "code",
   "execution_count": null,
   "id": "2bbaff8f-ff58-439a-8f77-fab4f9639cb9",
   "metadata": {},
   "outputs": [],
   "source": []
  },
  {
   "cell_type": "markdown",
   "id": "21d890c0-6fdb-47e7-b429-246df58cd37f",
   "metadata": {},
   "source": [
    "# 4.Write a Python Program to check Armstrong number ?"
   ]
  },
  {
   "cell_type": "code",
   "execution_count": 21,
   "id": "0092aff7-bafc-417f-b95a-962cd61f0854",
   "metadata": {},
   "outputs": [
    {
     "name": "stdin",
     "output_type": "stream",
     "text": [
      "Enter a number 123\n"
     ]
    },
    {
     "name": "stdout",
     "output_type": "stream",
     "text": [
      "It is not a armstrong number\n"
     ]
    }
   ],
   "source": [
    "def armstrong():\n",
    "    num = input(\"Enter a number\")\n",
    "    sum = 0\n",
    "    for i in range (len(num)):\n",
    "        sum = sum + pow(int(num[i]),3)\n",
    "    if sum == int(num):\n",
    "        print(\"It is a armstrong number\")\n",
    "    else:\n",
    "        print(\"It is not a armstrong number\")\n",
    "\n",
    "armstrong()\n",
    "                          \n",
    "                        "
   ]
  },
  {
   "cell_type": "code",
   "execution_count": null,
   "id": "15c8b773-ca4e-4457-88c7-80da0d763f0b",
   "metadata": {},
   "outputs": [],
   "source": []
  },
  {
   "cell_type": "markdown",
   "id": "5edcf521-a520-475b-a4b9-1e3704043662",
   "metadata": {},
   "source": [
    "# 5. Write a Python Program to sum of natural numbers ?"
   ]
  },
  {
   "cell_type": "code",
   "execution_count": 26,
   "id": "4f1d97dc-5bad-43a7-beda-32be55f3d819",
   "metadata": {},
   "outputs": [
    {
     "name": "stdin",
     "output_type": "stream",
     "text": [
      "Enter the number 18\n"
     ]
    },
    {
     "name": "stdout",
     "output_type": "stream",
     "text": [
      "Sum of natural number is 171\n"
     ]
    }
   ],
   "source": [
    "def natural():\n",
    "    num = int(input(\"Enter the number\"))\n",
    "    sum = 0\n",
    "    if num == 0:\n",
    "        print(\"Zero is not a natural number\")\n",
    "    else:\n",
    "        for i in range(1,num+1):\n",
    "            sum = sum + i \n",
    "        print(f\"Sum of natural number is {sum}\")\n",
    "natural()"
   ]
  },
  {
   "cell_type": "code",
   "execution_count": null,
   "id": "608f0d9e-3e56-4bc5-a4ed-891e16c40f41",
   "metadata": {},
   "outputs": [],
   "source": []
  }
 ],
 "metadata": {
  "kernelspec": {
   "display_name": "Python 3 (ipykernel)",
   "language": "python",
   "name": "python3"
  },
  "language_info": {
   "codemirror_mode": {
    "name": "ipython",
    "version": 3
   },
   "file_extension": ".py",
   "mimetype": "text/x-python",
   "name": "python",
   "nbconvert_exporter": "python",
   "pygments_lexer": "ipython3",
   "version": "3.10.6"
  }
 },
 "nbformat": 4,
 "nbformat_minor": 5
}
