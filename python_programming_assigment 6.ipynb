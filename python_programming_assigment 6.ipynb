{
 "cells": [
  {
   "cell_type": "markdown",
   "id": "b2937ff7-8d35-4385-b7bf-a9e0c524c873",
   "metadata": {},
   "source": [
    "# 1. Write a Python Program to Display Fibonacci Sequence using Recursion ?"
   ]
  },
  {
   "cell_type": "code",
   "execution_count": 26,
   "id": "3bc72bcb-53bb-4387-899c-b6263c656399",
   "metadata": {},
   "outputs": [
    {
     "name": "stdin",
     "output_type": "stream",
     "text": [
      "Enter the series of number 10\n"
     ]
    },
    {
     "name": "stdout",
     "output_type": "stream",
     "text": [
      "0\n",
      "1\n",
      "1\n",
      "2\n",
      "3\n",
      "5\n",
      "8\n",
      "13\n",
      "21\n",
      "34\n"
     ]
    }
   ],
   "source": [
    "def fibo(n):\n",
    "    if n <=1:\n",
    "        return n\n",
    "    else:\n",
    "        return fibo(n-1) + fibo(n-2)\n",
    "\n",
    "n = int(input(\"Enter the series of number\"))\n",
    "if n <=0:\n",
    "    print(\"Invalid number\")\n",
    "else:\n",
    "    for i in range(n):\n",
    "        print(fibo(i))\n"
   ]
  },
  {
   "cell_type": "code",
   "execution_count": null,
   "id": "32533723-3830-4439-8d1c-e4cc55337f94",
   "metadata": {},
   "outputs": [],
   "source": []
  },
  {
   "cell_type": "markdown",
   "id": "78ff0f0b-3b7f-4543-a5dd-369c1505a90e",
   "metadata": {},
   "source": [
    "# 2. Write a Python Program to Find Factorial of a Number using Recursion ?"
   ]
  },
  {
   "cell_type": "code",
   "execution_count": 5,
   "id": "b5ddd47a-73fe-4ff8-8572-8f2fd9a461ec",
   "metadata": {},
   "outputs": [
    {
     "name": "stdout",
     "output_type": "stream",
     "text": [
      "120\n"
     ]
    }
   ],
   "source": [
    "def facto(n):\n",
    "    if n < 1:\n",
    "        return 1\n",
    "    else:\n",
    "        n=n*facto(n-1)\n",
    "        return n\n",
    "print(facto(5))"
   ]
  },
  {
   "cell_type": "code",
   "execution_count": null,
   "id": "1712cc4a-e49b-4b5d-a835-a6ce6f259c14",
   "metadata": {},
   "outputs": [],
   "source": []
  },
  {
   "cell_type": "markdown",
   "id": "4add3d7f-55de-4ea6-807a-926805dfc848",
   "metadata": {},
   "source": [
    "# 3. Write a Python Program to Calculate your Body Mass Index ?"
   ]
  },
  {
   "cell_type": "code",
   "execution_count": 8,
   "id": "6ee42a49-1ea3-47fd-9e83-bb711ab56998",
   "metadata": {},
   "outputs": [
    {
     "name": "stdin",
     "output_type": "stream",
     "text": [
      "Enter the weights in kg's 73\n",
      "Enter the height in meter's 1.72\n"
     ]
    },
    {
     "name": "stdout",
     "output_type": "stream",
     "text": [
      "The BMI is 24.675500270416443\n",
      "You are Healthy\n"
     ]
    }
   ],
   "source": [
    "def BMI():\n",
    "    weight = float(input(\"Enter the weights in kg's\"))\n",
    "    height = float(input(\"Enter the height in meter's\"))\n",
    "    BMI = weight / pow(height,2)\n",
    "    print(f\"The BMI is {BMI}\")\n",
    "    if BMI < 18.5 :\n",
    "        print(\"You are Under weight\")\n",
    "    elif BMI >= 18.5 and BMI < 24.9:\n",
    "        print(\"You are Healthy\")\n",
    "    elif BMI >= 24.9 and BMI < 30 :\n",
    "        print(\"You are over weight\")\n",
    "    else:\n",
    "        print(\"You are suffering from obesity\")\n",
    "BMI()"
   ]
  },
  {
   "cell_type": "code",
   "execution_count": null,
   "id": "28862d9e-39f9-4eb2-8057-d885f4731b9c",
   "metadata": {},
   "outputs": [],
   "source": []
  },
  {
   "cell_type": "markdown",
   "id": "17f4e4eb-b3cc-4b8c-b0a0-b01160ab5c41",
   "metadata": {},
   "source": [
    "# 4. Write a Python Program to Calculate the Natural Logarithm of any Number ?"
   ]
  },
  {
   "cell_type": "code",
   "execution_count": 13,
   "id": "5ca3e99e-cf49-4586-bbea-9bb7c0dfcc18",
   "metadata": {},
   "outputs": [
    {
     "name": "stdout",
     "output_type": "stream",
     "text": [
      "result = 0.6931471805599453\n"
     ]
    }
   ],
   "source": [
    "import math\n",
    "def loga(x):\n",
    "    result = math.log(x)\n",
    "    print(f\"result = {result}\")\n",
    "loga(2)\n"
   ]
  },
  {
   "cell_type": "code",
   "execution_count": null,
   "id": "53ba4809-52df-461f-866c-f3189080cd80",
   "metadata": {},
   "outputs": [],
   "source": []
  },
  {
   "cell_type": "markdown",
   "id": "426d0c88-0208-40df-8c31-26ed9d0d31c8",
   "metadata": {},
   "source": [
    "# 5. Write a Python Program for Cube sum of first n Natural Numbers ?"
   ]
  },
  {
   "cell_type": "code",
   "execution_count": 24,
   "id": "e126ce5c-ac97-4542-8a45-b9996335d6f3",
   "metadata": {},
   "outputs": [
    {
     "name": "stdin",
     "output_type": "stream",
     "text": [
      "Enter the number 45\n"
     ]
    },
    {
     "name": "stdout",
     "output_type": "stream",
     "text": [
      "1071225\n"
     ]
    }
   ],
   "source": [
    "def cube_sum():\n",
    "    a = 0\n",
    "    n = int(input(\"Enter the number\"))\n",
    "    for i in range(1,n+1):\n",
    "        a = a + pow(i,3)\n",
    "    print(a)\n",
    "cube_sum()"
   ]
  },
  {
   "cell_type": "code",
   "execution_count": null,
   "id": "4d75975e-74fd-42e7-a12d-c06386be67f2",
   "metadata": {},
   "outputs": [],
   "source": []
  }
 ],
 "metadata": {
  "kernelspec": {
   "display_name": "Python 3 (ipykernel)",
   "language": "python",
   "name": "python3"
  },
  "language_info": {
   "codemirror_mode": {
    "name": "ipython",
    "version": 3
   },
   "file_extension": ".py",
   "mimetype": "text/x-python",
   "name": "python",
   "nbconvert_exporter": "python",
   "pygments_lexer": "ipython3",
   "version": "3.10.6"
  }
 },
 "nbformat": 4,
 "nbformat_minor": 5
}
