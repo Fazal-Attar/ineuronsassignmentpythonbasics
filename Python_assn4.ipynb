{
 "cells": [
  {
   "cell_type": "markdown",
   "id": "475ab434-cde2-4453-b886-2966ea6684cc",
   "metadata": {},
   "source": [
    "# 1.What exactly is [ ]?"
   ]
  },
  {
   "cell_type": "raw",
   "id": "21806a5b-d24a-417c-a409-6930adb1e22b",
   "metadata": {},
   "source": [
    "The empty list represent by [] is a list contain no items."
   ]
  },
  {
   "cell_type": "code",
   "execution_count": null,
   "id": "130cc39a-51de-48ce-957f-ce6bb55e8b12",
   "metadata": {},
   "outputs": [],
   "source": []
  },
  {
   "cell_type": "markdown",
   "id": "9456db1f-2e35-415a-9144-686ef6781015",
   "metadata": {},
   "source": [
    "# 2.In a list of values stored in a variable called spam, how would you assign the value 'hello' as the third value? (Assume [2, 4, 6, 8, 10] are in spam.)"
   ]
  },
  {
   "cell_type": "code",
   "execution_count": 1,
   "id": "a37cfc5d-8722-4be9-81d5-503a00f2becb",
   "metadata": {},
   "outputs": [],
   "source": [
    "spam = [2, 4, 6, 8, 10]\n",
    "spam[3] = 'hello'"
   ]
  },
  {
   "cell_type": "code",
   "execution_count": 2,
   "id": "1e8de7c8-b5c5-4538-899a-052bbb46f68b",
   "metadata": {},
   "outputs": [
    {
     "data": {
      "text/plain": [
       "[2, 4, 6, 'hello', 10]"
      ]
     },
     "execution_count": 2,
     "metadata": {},
     "output_type": "execute_result"
    }
   ],
   "source": [
    "spam"
   ]
  },
  {
   "cell_type": "code",
   "execution_count": null,
   "id": "74cd5202-be56-4271-8518-22bded0d9559",
   "metadata": {},
   "outputs": [],
   "source": []
  },
  {
   "cell_type": "markdown",
   "id": "9318b180-9ca9-439b-a2f0-e81e74189f95",
   "metadata": {},
   "source": [
    "# 4. What is the value of spam[-1]?"
   ]
  },
  {
   "cell_type": "raw",
   "id": "8bb16d1d-deab-4fb1-8f35-4b06ea749d74",
   "metadata": {},
   "source": [
    "List has a negative indexing "
   ]
  },
  {
   "cell_type": "raw",
   "id": "ebe57a64-bf78-4608-ab99-ddd383908d69",
   "metadata": {},
   "source": []
  },
  {
   "cell_type": "markdown",
   "id": "09ffbcc8-24e8-4615-b863-e5f6e52e306c",
   "metadata": {},
   "source": [
    "# 5. What is the value of spam[:2]?"
   ]
  },
  {
   "cell_type": "raw",
   "id": "7855f6d3-aae3-4b6f-af6a-0df23f431e05",
   "metadata": {},
   "source": [
    "It will print the list from 0 index to 2 index"
   ]
  },
  {
   "cell_type": "code",
   "execution_count": null,
   "id": "af050cda-ed8f-4527-89e0-df90a1cb3cdf",
   "metadata": {},
   "outputs": [],
   "source": []
  },
  {
   "cell_type": "markdown",
   "id": "2c88ec28-acfb-4679-9392-7d1bbe584c50",
   "metadata": {},
   "source": [
    "# 6. What is the value of bacon.index('cat')?"
   ]
  },
  {
   "cell_type": "code",
   "execution_count": 4,
   "id": "dda3db27-4525-46c2-a870-547b08ef4de6",
   "metadata": {},
   "outputs": [
    {
     "data": {
      "text/plain": [
       "'cat'"
      ]
     },
     "execution_count": 4,
     "metadata": {},
     "output_type": "execute_result"
    }
   ],
   "source": [
    "bacon = [3.14,'cat',11,'cat',True]\n",
    "bacon[1]"
   ]
  },
  {
   "cell_type": "code",
   "execution_count": null,
   "id": "954408bb-91a9-4bda-95e0-44f85c37b961",
   "metadata": {},
   "outputs": [],
   "source": []
  },
  {
   "cell_type": "markdown",
   "id": "828fcfc8-4410-447b-a2d7-39b03bbcbe51",
   "metadata": {},
   "source": [
    "# 7. How does bacon.append(99) change the look of the list value in bacon?"
   ]
  },
  {
   "cell_type": "code",
   "execution_count": 7,
   "id": "d03d65b5-12b8-4a6a-aa92-ae11f6aab47f",
   "metadata": {},
   "outputs": [],
   "source": [
    "bacon = [3.14,'cat',11,'cat',True]\n",
    "bacon.append(99)"
   ]
  },
  {
   "cell_type": "code",
   "execution_count": 8,
   "id": "0605af96-34c5-4270-aa7b-f536b6ea9990",
   "metadata": {},
   "outputs": [
    {
     "data": {
      "text/plain": [
       "[3.14, 'cat', 11, 'cat', True, 99]"
      ]
     },
     "execution_count": 8,
     "metadata": {},
     "output_type": "execute_result"
    }
   ],
   "source": [
    "bacon"
   ]
  },
  {
   "cell_type": "code",
   "execution_count": null,
   "id": "0dd1d87d-3351-4a52-bf37-1e4133f167ac",
   "metadata": {},
   "outputs": [],
   "source": []
  },
  {
   "cell_type": "markdown",
   "id": "96c08f0e-6bff-4920-93ff-38421b445e84",
   "metadata": {},
   "source": [
    "# 8. How does bacon.remove('cat') change the look of the list in bacon?"
   ]
  },
  {
   "cell_type": "code",
   "execution_count": 9,
   "id": "3830541c-beb8-4774-9338-8a17c074daf2",
   "metadata": {},
   "outputs": [
    {
     "data": {
      "text/plain": [
       "[3.14, 11, 'cat', True, 99]"
      ]
     },
     "execution_count": 9,
     "metadata": {},
     "output_type": "execute_result"
    }
   ],
   "source": [
    "bacon.remove('cat')\n",
    "bacon"
   ]
  },
  {
   "cell_type": "markdown",
   "id": "aee96630-6e80-4bc3-aa3a-462e869bd892",
   "metadata": {},
   "source": [
    "# 9. what are the list concatenation and list replication operations?"
   ]
  },
  {
   "cell_type": "code",
   "execution_count": 13,
   "id": "6edcfe59-d06d-4990-ab06-54d9ddb46ec1",
   "metadata": {},
   "outputs": [
    {
     "data": {
      "text/plain": [
       "[10, 'w', 20, 'e']"
      ]
     },
     "execution_count": 13,
     "metadata": {},
     "output_type": "execute_result"
    }
   ],
   "source": [
    "l1 = [10,'w']\n",
    "l2 = [20,'e']\n",
    "l1 + l2"
   ]
  },
  {
   "cell_type": "code",
   "execution_count": null,
   "id": "d37f0008-6143-471e-8999-74ae9eeba84b",
   "metadata": {},
   "outputs": [],
   "source": []
  },
  {
   "cell_type": "markdown",
   "id": "d83fd9d6-b764-4294-8cca-e1d22102881b",
   "metadata": {},
   "source": [
    "# 10.what is the difference between the list method append() and insert()?"
   ]
  },
  {
   "cell_type": "raw",
   "id": "7b1f1806-90b0-4113-82a4-b3fca9d6d3e2",
   "metadata": {},
   "source": [
    "Append() is used to add the elements at the end of the list whereas insert to add the elements any in the list"
   ]
  },
  {
   "cell_type": "code",
   "execution_count": null,
   "id": "40b0fa0c-ac85-40fd-aa88-3eeb5d892606",
   "metadata": {},
   "outputs": [],
   "source": []
  },
  {
   "cell_type": "markdown",
   "id": "e7cc76a7-2324-40c2-bd5d-3431b109ef41",
   "metadata": {},
   "source": [
    "# 11. What are the two methods for removing items from a list?"
   ]
  },
  {
   "cell_type": "raw",
   "id": "1fc703ca-161d-4fee-9dd2-71496f6c0819",
   "metadata": {},
   "source": [
    "The del statement and the remove() method are two ways to remove values from a list"
   ]
  },
  {
   "cell_type": "code",
   "execution_count": null,
   "id": "be3e26d0-4e84-4992-bad7-9c6557f751e3",
   "metadata": {},
   "outputs": [],
   "source": []
  },
  {
   "cell_type": "markdown",
   "id": "07304b8f-83be-4cca-b754-0e63facc5af9",
   "metadata": {},
   "source": [
    "# 12.Describe how list values and string values are identical."
   ]
  },
  {
   "cell_type": "raw",
   "id": "d573ab61-c5dc-4ee4-989d-8f9c38d7e031",
   "metadata": {},
   "source": [
    "Both lists and strings can be passed to len() function, have indexes and slices, be used in for loops, be concatenated or replicated, and be used with the in and not in operators"
   ]
  },
  {
   "cell_type": "code",
   "execution_count": null,
   "id": "ecaca48d-e04c-476f-bc88-2fe48bddf436",
   "metadata": {},
   "outputs": [],
   "source": []
  },
  {
   "cell_type": "markdown",
   "id": "602e0948-601c-4caa-a643-c227b9c19633",
   "metadata": {},
   "source": [
    "# 13. What's the difference between tuples and lists?"
   ]
  },
  {
   "cell_type": "raw",
   "id": "c4799a17-20d3-4edb-b802-79f7d5fa1c88",
   "metadata": {},
   "source": [
    "Lists are Mutable, Indexable and Slicable. they can have values added, removed, or changed. Tuples are Immutable but Indexable and Slicable. the tuple values cannot be changed at all. Also, tuples are represented using parentheses, (), while lists use the square brackets, []"
   ]
  },
  {
   "cell_type": "code",
   "execution_count": null,
   "id": "b1a7aedf-a084-4dbe-a3b5-647ab8e65a42",
   "metadata": {},
   "outputs": [],
   "source": []
  },
  {
   "cell_type": "markdown",
   "id": "73071198-3f02-460e-b817-7c2c7d1a82f1",
   "metadata": {},
   "source": [
    "# 14 How do you type a tuple value that only contains the integer 42?"
   ]
  },
  {
   "cell_type": "code",
   "execution_count": 18,
   "id": "f7454d98-7ca8-4c4f-bf00-41b0506091e4",
   "metadata": {},
   "outputs": [
    {
     "name": "stdout",
     "output_type": "stream",
     "text": [
      "<class 'tuple'>\n"
     ]
    }
   ],
   "source": [
    "t = (42,) # , is used to derive it as tuple\n",
    "print(type(t))"
   ]
  },
  {
   "cell_type": "code",
   "execution_count": null,
   "id": "6c7f1452-1987-485b-b3bd-a0ad57299e80",
   "metadata": {},
   "outputs": [],
   "source": []
  },
  {
   "cell_type": "markdown",
   "id": "b79dd8a0-705b-41b6-9cd0-cdcd1df1818a",
   "metadata": {},
   "source": [
    " 15. How do you get a list value's tuple form? How do you get a tuple value's list form?"
   ]
  },
  {
   "cell_type": "code",
   "execution_count": 20,
   "id": "918463fd-c66d-4b30-8812-fb194c94a86c",
   "metadata": {},
   "outputs": [
    {
     "data": {
      "text/plain": [
       "(123, 'wer', 23)"
      ]
     },
     "execution_count": 20,
     "metadata": {},
     "output_type": "execute_result"
    }
   ],
   "source": [
    "l1 = [123,'wer',23]\n",
    "tuple(l1)"
   ]
  },
  {
   "cell_type": "code",
   "execution_count": 22,
   "id": "85e219d9-d3d5-4836-86e7-53f2680a20e3",
   "metadata": {},
   "outputs": [
    {
     "data": {
      "text/plain": [
       "[123, 4, 'faza']"
      ]
     },
     "execution_count": 22,
     "metadata": {},
     "output_type": "execute_result"
    }
   ],
   "source": [
    "l2 = (123,4,'faza')\n",
    "list(l2)"
   ]
  },
  {
   "cell_type": "code",
   "execution_count": null,
   "id": "52b4d55e-ff84-426c-842e-8e6dc903029b",
   "metadata": {},
   "outputs": [],
   "source": []
  },
  {
   "cell_type": "markdown",
   "id": "21743993-22e4-4b68-9d9e-d5ecea456437",
   "metadata": {},
   "source": [
    "# 16. Variables that \"contain\" list values are not necessarily lists themselves. Instead, what do they contain?"
   ]
  },
  {
   "cell_type": "raw",
   "id": "05be3b7d-fe6a-4279-93fb-74d8577e5576",
   "metadata": {},
   "source": [
    "They contain reference to a list values"
   ]
  },
  {
   "cell_type": "code",
   "execution_count": null,
   "id": "1cb4673e-f3b3-4723-89a3-1199a2d39530",
   "metadata": {},
   "outputs": [],
   "source": []
  },
  {
   "cell_type": "markdown",
   "id": "e6c4378c-90fe-4923-b24e-4ce85d832de9",
   "metadata": {},
   "source": [
    "# 17. How do you distinguish between copy.copy() and copy.deepcopy()?"
   ]
  },
  {
   "cell_type": "raw",
   "id": "1fe48c26-0f58-4720-abc8-227f06377218",
   "metadata": {},
   "source": [
    "copy.copy() is used to copy the all the elements in a list while copy.deepcopy() is used to used to copy the list inside the list."
   ]
  },
  {
   "cell_type": "code",
   "execution_count": null,
   "id": "7a910923-9fd3-435a-a8bc-9567a453ae31",
   "metadata": {},
   "outputs": [],
   "source": []
  }
 ],
 "metadata": {
  "kernelspec": {
   "display_name": "Python 3 (ipykernel)",
   "language": "python",
   "name": "python3"
  },
  "language_info": {
   "codemirror_mode": {
    "name": "ipython",
    "version": 3
   },
   "file_extension": ".py",
   "mimetype": "text/x-python",
   "name": "python",
   "nbconvert_exporter": "python",
   "pygments_lexer": "ipython3",
   "version": "3.10.6"
  }
 },
 "nbformat": 4,
 "nbformat_minor": 5
}
