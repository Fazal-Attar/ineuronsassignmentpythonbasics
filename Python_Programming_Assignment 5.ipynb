{
 "cells": [
  {
   "cell_type": "markdown",
   "id": "a1073feb-7116-4f49-8c1e-d90d6f2eff6a",
   "metadata": {},
   "source": [
    "# 1.Write a Python Program to find LCM ?"
   ]
  },
  {
   "cell_type": "code",
   "execution_count": 14,
   "id": "827cd7eb-1caa-4172-a35e-5e5f34781257",
   "metadata": {},
   "outputs": [
    {
     "name": "stdout",
     "output_type": "stream",
     "text": [
      "The LCM of two number is 24\n",
      "The LCM of two number is 100\n"
     ]
    }
   ],
   "source": [
    "def findlcm(x,y):\n",
    "    if x > y:\n",
    "        greater = x \n",
    "    else:\n",
    "        greater = y\n",
    "    while (True):\n",
    "        if ((greater % x == 0) and (greater % y == 0)):\n",
    "            LCM = greater\n",
    "            break\n",
    "        else:\n",
    "            greater = greater + 1 \n",
    "    print(f\"The LCM of two number is {LCM}\")\n",
    "findlcm(6,8)\n",
    "findlcm(10,100)"
   ]
  },
  {
   "cell_type": "code",
   "execution_count": null,
   "id": "65cee73c-9418-41ac-8d5e-f68721ad7bc5",
   "metadata": {},
   "outputs": [],
   "source": []
  },
  {
   "cell_type": "markdown",
   "id": "5ca44044-9930-437e-a319-a603f56293b7",
   "metadata": {},
   "source": [
    "# 2.Write a Python Program to find HCF ?"
   ]
  },
  {
   "cell_type": "code",
   "execution_count": 18,
   "id": "4a86e9f2-30da-42ac-9320-7101e05ae28c",
   "metadata": {},
   "outputs": [
    {
     "name": "stdout",
     "output_type": "stream",
     "text": [
      "The HCF of two number are 1\n"
     ]
    }
   ],
   "source": [
    "def findhcf(x,y):\n",
    "    if x < y :\n",
    "        smaller = x\n",
    "    else:\n",
    "        smaller = y\n",
    "    for i in range (1,smaller):\n",
    "        if (x % i == 0) and (y % i == 0):\n",
    "            hcf = i\n",
    "        print(f\"The HCF of two number are {hcf}\")\n",
    "findhcf(2,3)"
   ]
  },
  {
   "cell_type": "code",
   "execution_count": null,
   "id": "60a319dc-758a-47f8-a039-cebf0c82c3b9",
   "metadata": {},
   "outputs": [],
   "source": []
  },
  {
   "cell_type": "markdown",
   "id": "102b21c7-bc9d-42ba-91f4-35e395256f56",
   "metadata": {},
   "source": [
    "# 3.Write a Python Program to Convert Decimal to Binary, Octal and Hexadecimal ?"
   ]
  },
  {
   "cell_type": "code",
   "execution_count": 21,
   "id": "343910da-23d3-46cf-be42-e8752cf0dbec",
   "metadata": {},
   "outputs": [
    {
     "name": "stdin",
     "output_type": "stream",
     "text": [
      "Enter the number 3\n"
     ]
    },
    {
     "name": "stdout",
     "output_type": "stream",
     "text": [
      "The binary of 3 is 0b11\n",
      "The Octal of 3 is 0o3\n",
      "The Hexadecimal of 3 is 0x3 \n"
     ]
    }
   ],
   "source": [
    "def decimalto():\n",
    "    x = int(input(\"Enter the number\"))\n",
    "    print(f\"The binary of {x} is {bin(x)}\")\n",
    "    print(f\"The Octal of {x} is {oct(x)}\")\n",
    "    print(f\"The Hexadecimal of {x} is {hex(x)} \")\n",
    "decimalto()"
   ]
  },
  {
   "cell_type": "code",
   "execution_count": null,
   "id": "7528165b-f171-42bb-a878-42b5521f2422",
   "metadata": {},
   "outputs": [],
   "source": []
  },
  {
   "cell_type": "markdown",
   "id": "f4d7432d-278b-47df-bcb3-610a04e9c69b",
   "metadata": {},
   "source": [
    "# 4.Write a Python Program to Find the ASCII value of a Character ?"
   ]
  },
  {
   "cell_type": "code",
   "execution_count": 23,
   "id": "5831921e-ba75-4f23-909a-e2edd72d059b",
   "metadata": {},
   "outputs": [
    {
     "name": "stdin",
     "output_type": "stream",
     "text": [
      "Enter the letter to find the ASCII value q\n"
     ]
    },
    {
     "name": "stdout",
     "output_type": "stream",
     "text": [
      "The ASCII value of q is 113\n"
     ]
    }
   ],
   "source": [
    "def ASCII():\n",
    "    char = input(\"Enter the letter to find the ASCII value\")\n",
    "    if len(char) > 1:\n",
    "        print(\"Enter the single letter\")\n",
    "    else:\n",
    "        print(f\"The ASCII value of {char} is {ord(char)}\")\n",
    "ASCII()"
   ]
  },
  {
   "cell_type": "code",
   "execution_count": null,
   "id": "4ce35e08-691a-458d-b62d-d90622f920c7",
   "metadata": {},
   "outputs": [],
   "source": []
  },
  {
   "cell_type": "markdown",
   "id": "d973a688-1f1a-49c0-9a31-f0d0621d96af",
   "metadata": {},
   "source": [
    "# 5. Write a Python Program to Make a Simple Calculator with 4 Basic Mathematical operations ?"
   ]
  },
  {
   "cell_type": "code",
   "execution_count": 24,
   "id": "508050ec-fc3f-429b-a0fb-7a27ea99232a",
   "metadata": {},
   "outputs": [
    {
     "name": "stdin",
     "output_type": "stream",
     "text": [
      "Enter the number 12\n",
      "Enter the number 4\n",
      " *\n"
     ]
    },
    {
     "name": "stdout",
     "output_type": "stream",
     "text": [
      "The multilpication is 48\n"
     ]
    }
   ],
   "source": [
    "num1 = int(input(\"Enter the number\"))\n",
    "num2 = int(input(\"Enter the number\"))\n",
    "operator = input()\n",
    "if operator == '+':\n",
    "    print(f\"The addition is {num1+num2}\")\n",
    "elif operator == '-':\n",
    "    print(f\"The Subtraction is {num1-num2}\")\n",
    "elif operator == '*':\n",
    "    print(f\"The multilpication is {num1*num2}\")\n",
    "elif operator == '/':\n",
    "    print(f\"The division is {num1/num2}\")"
   ]
  },
  {
   "cell_type": "code",
   "execution_count": null,
   "id": "eb95b73b-804d-4918-b1cb-dc1629c5552f",
   "metadata": {},
   "outputs": [],
   "source": []
  }
 ],
 "metadata": {
  "kernelspec": {
   "display_name": "Python 3 (ipykernel)",
   "language": "python",
   "name": "python3"
  },
  "language_info": {
   "codemirror_mode": {
    "name": "ipython",
    "version": 3
   },
   "file_extension": ".py",
   "mimetype": "text/x-python",
   "name": "python",
   "nbconvert_exporter": "python",
   "pygments_lexer": "ipython3",
   "version": "3.10.6"
  }
 },
 "nbformat": 4,
 "nbformat_minor": 5
}
