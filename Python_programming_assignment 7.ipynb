{
 "cells": [
  {
   "cell_type": "markdown",
   "id": "9683b0b0-8097-4b7a-8058-1bd80f49d7b1",
   "metadata": {},
   "source": [
    "# 1.Write a Python Program to find sum of array?"
   ]
  },
  {
   "cell_type": "code",
   "execution_count": 6,
   "id": "1669db5f-9622-48d4-812a-f2997cde754c",
   "metadata": {},
   "outputs": [
    {
     "name": "stdout",
     "output_type": "stream",
     "text": [
      "38\n"
     ]
    }
   ],
   "source": [
    "def sumarr():\n",
    "    l = [10,12,4,12]\n",
    "    for i in l:\n",
    "        return sum(l)\n",
    "print(sumarr())"
   ]
  },
  {
   "cell_type": "code",
   "execution_count": null,
   "id": "31a4b7ce-2b2a-4053-a0af-b77e72e6c6aa",
   "metadata": {},
   "outputs": [],
   "source": []
  },
  {
   "cell_type": "markdown",
   "id": "ba5d1df7-eed0-49f0-8221-96b49716215f",
   "metadata": {},
   "source": [
    "# 2.Write a Python Program to find Largest element in an Array ?"
   ]
  },
  {
   "cell_type": "code",
   "execution_count": 35,
   "id": "c53a1f18-a099-49d6-850f-027b7b42bcf6",
   "metadata": {},
   "outputs": [
    {
     "data": {
      "text/plain": [
       "12"
      ]
     },
     "execution_count": 35,
     "metadata": {},
     "output_type": "execute_result"
    }
   ],
   "source": [
    "def lararr():\n",
    "    l = [10,12,4,12]\n",
    "    max = 0\n",
    "    for i in l:\n",
    "        if int(i) > max:\n",
    "            max = i\n",
    "    return max\n",
    "lararr()"
   ]
  },
  {
   "cell_type": "code",
   "execution_count": null,
   "id": "241fcd69-17b4-4bef-a0e0-a46e05b68249",
   "metadata": {},
   "outputs": [],
   "source": []
  },
  {
   "cell_type": "markdown",
   "id": "71e515e9-d749-4dac-b051-3ef8481e5a54",
   "metadata": {},
   "source": [
    "# 3.Write a Python Program for array rotation?"
   ]
  },
  {
   "cell_type": "code",
   "execution_count": 36,
   "id": "a4effb95-ce89-4d42-9260-3aab9b37ea48",
   "metadata": {},
   "outputs": [
    {
     "data": {
      "text/plain": [
       "[6, 5, 4, 3, 2, 1]"
      ]
     },
     "execution_count": 36,
     "metadata": {},
     "output_type": "execute_result"
    }
   ],
   "source": [
    "def rotarra():\n",
    "    l = [1,2,3,4,5,6]\n",
    "    return l[::-1]\n",
    "rotarra()"
   ]
  },
  {
   "cell_type": "code",
   "execution_count": null,
   "id": "53b7136a-c94f-48ff-b205-9a4c6e1a0e46",
   "metadata": {},
   "outputs": [],
   "source": []
  },
  {
   "cell_type": "markdown",
   "id": "31b4138f-38eb-440f-ac9f-c239fd3e87b0",
   "metadata": {},
   "source": [
    "# 4. Write a Python Program to Split the array and add the first part to the end?"
   ]
  },
  {
   "cell_type": "code",
   "execution_count": 42,
   "id": "893095a1-e61a-4def-a3df-8be0834d0c7d",
   "metadata": {},
   "outputs": [
    {
     "data": {
      "text/plain": [
       "[4, 5, 6, 1, 2, 3]"
      ]
     },
     "execution_count": 42,
     "metadata": {},
     "output_type": "execute_result"
    }
   ],
   "source": [
    "def split():\n",
    "    l = [1,2,3,4,5,6]\n",
    "    a = l[:3]\n",
    "    b = l[3:]\n",
    "    return b+a\n",
    "split()"
   ]
  },
  {
   "cell_type": "code",
   "execution_count": null,
   "id": "c3167eea-9f4b-41f6-b9ac-3c5e2ab1319a",
   "metadata": {},
   "outputs": [],
   "source": []
  },
  {
   "cell_type": "markdown",
   "id": "afd21a7c-5af4-457a-9df9-1e663d4b86c6",
   "metadata": {},
   "source": [
    "# 5. Write a Python Program to check if given array is Monotonic ?"
   ]
  },
  {
   "cell_type": "code",
   "execution_count": 56,
   "id": "3f6c9221-84f3-4028-ae9a-2695b94f637f",
   "metadata": {},
   "outputs": [
    {
     "name": "stdout",
     "output_type": "stream",
     "text": [
      "AN array is not monotonic\n"
     ]
    }
   ],
   "source": [
    "def monotonic():\n",
    "    A = [1,2,3,5,6,1]\n",
    "    if(all(A[i]<A[i+1] for i in range(len(A)-1)) or all(A[i]>A[i+1] for i in range(len(A)-1))):\n",
    "        print(\"An array is monotonic\")\n",
    "    else:\n",
    "        print(\"AN array is not monotonic\")\n",
    "monotonic()\n",
    "        "
   ]
  },
  {
   "cell_type": "code",
   "execution_count": null,
   "id": "069b639f-2607-443b-abb7-5ff9e47d4e88",
   "metadata": {},
   "outputs": [],
   "source": []
  },
  {
   "cell_type": "code",
   "execution_count": 57,
   "id": "2cd7eee7-1ba3-4d8b-a29b-b5af3ceec82e",
   "metadata": {},
   "outputs": [
    {
     "data": {
      "text/plain": [
       "6"
      ]
     },
     "execution_count": 57,
     "metadata": {},
     "output_type": "execute_result"
    }
   ],
   "source": []
  },
  {
   "cell_type": "code",
   "execution_count": null,
   "id": "99ea4ea6-1e45-42cb-a4ce-f4c9bf1dc7bc",
   "metadata": {},
   "outputs": [],
   "source": []
  }
 ],
 "metadata": {
  "kernelspec": {
   "display_name": "Python 3 (ipykernel)",
   "language": "python",
   "name": "python3"
  },
  "language_info": {
   "codemirror_mode": {
    "name": "ipython",
    "version": 3
   },
   "file_extension": ".py",
   "mimetype": "text/x-python",
   "name": "python",
   "nbconvert_exporter": "python",
   "pygments_lexer": "ipython3",
   "version": "3.10.6"
  }
 },
 "nbformat": 4,
 "nbformat_minor": 5
}
