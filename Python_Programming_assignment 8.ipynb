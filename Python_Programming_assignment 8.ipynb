{
 "cells": [
  {
   "cell_type": "markdown",
   "id": "f6aefbbd-a630-46fc-81dc-e32fb15229b7",
   "metadata": {},
   "source": [
    "# 1.Write a Python Program to Add two Matrices ?"
   ]
  },
  {
   "cell_type": "code",
   "execution_count": 19,
   "id": "d41c63c0-1a7a-4d72-8b28-718f1285adbe",
   "metadata": {},
   "outputs": [
    {
     "name": "stdout",
     "output_type": "stream",
     "text": [
      "[2, 5, 9, 11]\n",
      "[4, 8, 10, 11]\n",
      "[4, 10, 9, 9]\n",
      "[3, 11, 9, 9]\n"
     ]
    }
   ],
   "source": [
    "x=[[1,2,4,5],\n",
    "  [2,3,7,6],\n",
    "  [2,4,6,4],\n",
    "  [1,5,6,4]]\n",
    "\n",
    "y =[[1,3,5,6],\n",
    "   [2,5,3,5],\n",
    "   [2,6,3,5],\n",
    "   [2,6,3,5]]\n",
    "\n",
    "result = [[0,0,0,0],\n",
    "         [0,0,0,0],\n",
    "         [0,0,0,0],\n",
    "         [0,0,0,0]]\n",
    "\n",
    "for i in range(len(x)):\n",
    "    #print(i)\n",
    "    for j in range(len(y)):\n",
    "        #print(j)\n",
    "        result[i][j]=x[i][j]+y[i][j]\n",
    "        #print(f\"{result[i][j]}\")\n",
    "for z in result:\n",
    "     print(z)"
   ]
  },
  {
   "cell_type": "code",
   "execution_count": null,
   "id": "b2bded92-4e9a-4def-b4d6-366eb7d5b90c",
   "metadata": {},
   "outputs": [],
   "source": []
  },
  {
   "cell_type": "markdown",
   "id": "bb351d51-f700-49a6-8f70-3d1e564aa7e3",
   "metadata": {},
   "source": [
    "# 2.Write a Python Program to Multiply Two Matrices?"
   ]
  },
  {
   "cell_type": "code",
   "execution_count": 20,
   "id": "1861dd32-a31d-4c09-9672-9fb8229f6d40",
   "metadata": {},
   "outputs": [
    {
     "name": "stdout",
     "output_type": "stream",
     "text": [
      "[1, 6, 20, 30]\n",
      "[4, 15, 21, 30]\n",
      "[4, 24, 18, 20]\n",
      "[2, 30, 18, 20]\n"
     ]
    }
   ],
   "source": [
    "x=[[1,2,4,5],\n",
    "  [2,3,7,6],\n",
    "  [2,4,6,4],\n",
    "  [1,5,6,4]]\n",
    "\n",
    "y =[[1,3,5,6],\n",
    "   [2,5,3,5],\n",
    "   [2,6,3,5],\n",
    "   [2,6,3,5]]\n",
    "\n",
    "result = [[0,0,0,0],\n",
    "         [0,0,0,0],\n",
    "         [0,0,0,0],\n",
    "         [0,0,0,0]]\n",
    "\n",
    "for i in range(len(x)):\n",
    "    #print(i)\n",
    "    for j in range(len(y)):\n",
    "        #print(j)\n",
    "        result[i][j]=x[i][j]*y[i][j]\n",
    "        #print(f\"{result[i][j]}\")\n",
    "for z in result:\n",
    "     print(z)"
   ]
  },
  {
   "cell_type": "code",
   "execution_count": null,
   "id": "d6f068db-c195-4328-aad9-f5b9a2262008",
   "metadata": {},
   "outputs": [],
   "source": []
  },
  {
   "cell_type": "markdown",
   "id": "b1f8aac8-7600-4f21-8bc4-5d39ed1fd8e6",
   "metadata": {},
   "source": [
    "# 3. Write a Python Program to transpose a Matrix ?"
   ]
  },
  {
   "cell_type": "code",
   "execution_count": 30,
   "id": "183b409c-dcc8-4e61-841a-8bfe168bebe5",
   "metadata": {},
   "outputs": [
    {
     "name": "stdout",
     "output_type": "stream",
     "text": [
      "[1, 2, 2]\n",
      "[2, 3, 4]\n",
      "[4, 7, 6]\n",
      "[5, 6, 4]\n"
     ]
    }
   ],
   "source": [
    "x=[[1,2,4,5],\n",
    "  [2,3,7,6],\n",
    "  [2,4,6,4]]\n",
    "\n",
    "t=[[0,0,0],\n",
    "  [0,0,0],\n",
    "  [0,0,0],\n",
    "  [0,0,0]]\n",
    "\n",
    "for i in range(len(x)):\n",
    "    for j in range(len(x[0])):\n",
    "        t[j][i]=x[i][j]\n",
    "for z in t:\n",
    "    print(z)\n",
    "        "
   ]
  },
  {
   "cell_type": "code",
   "execution_count": null,
   "id": "122f8c68-36a9-49a5-822b-57ec76c9e9cb",
   "metadata": {},
   "outputs": [],
   "source": []
  },
  {
   "cell_type": "markdown",
   "id": "5a1d5df9-5277-434a-9712-a94230885921",
   "metadata": {},
   "source": [
    "# 4.Write a Python Program to Sort Words in Alphabetic Order?"
   ]
  },
  {
   "cell_type": "code",
   "execution_count": 37,
   "id": "6e62c1fd-4b92-4961-adfc-e2506a7306fe",
   "metadata": {},
   "outputs": [
    {
     "name": "stdout",
     "output_type": "stream",
     "text": [
      "brown dog fox jumps lazy over quick the the\n"
     ]
    }
   ],
   "source": [
    "def Func(S):\n",
    "    W = S.split(\" \")\n",
    "    for i in range(len(W)):\n",
    "        W[i]=W[i].lower() \n",
    "    S = sorted(W)\n",
    "    print(' '.join(S))\n",
    " # Driver code\n",
    "S = \"the Quick brown fox jumPs over the lazY Dog\"\n",
    " \n",
    "# function call\n",
    "Func(S)"
   ]
  },
  {
   "cell_type": "code",
   "execution_count": null,
   "id": "9619676f-71a7-4045-b869-ab00ecbf63aa",
   "metadata": {},
   "outputs": [],
   "source": []
  },
  {
   "cell_type": "code",
   "execution_count": null,
   "id": "b0048ce1-da62-4778-ab4a-a7079d4c9a92",
   "metadata": {},
   "outputs": [],
   "source": []
  }
 ],
 "metadata": {
  "kernelspec": {
   "display_name": "Python 3 (ipykernel)",
   "language": "python",
   "name": "python3"
  },
  "language_info": {
   "codemirror_mode": {
    "name": "ipython",
    "version": 3
   },
   "file_extension": ".py",
   "mimetype": "text/x-python",
   "name": "python",
   "nbconvert_exporter": "python",
   "pygments_lexer": "ipython3",
   "version": "3.10.6"
  }
 },
 "nbformat": 4,
 "nbformat_minor": 5
}
