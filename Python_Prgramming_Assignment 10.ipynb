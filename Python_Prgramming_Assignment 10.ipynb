{
 "cells": [
  {
   "cell_type": "markdown",
   "id": "aaddccdd-9a55-40d4-879e-643729f0b107",
   "metadata": {},
   "source": [
    "# 1.Write a Python program to find sum of elements in list?"
   ]
  },
  {
   "cell_type": "code",
   "execution_count": 9,
   "id": "b03ed0fd-60cc-475d-a25c-d98877f6c06a",
   "metadata": {},
   "outputs": [
    {
     "data": {
      "text/plain": [
       "35"
      ]
     },
     "execution_count": 9,
     "metadata": {},
     "output_type": "execute_result"
    }
   ],
   "source": [
    "def addition():\n",
    "    n = [2,4,21,3,5]\n",
    "    add = 0\n",
    "    for i in n:\n",
    "        #print(i)\n",
    "        add = add + i\n",
    "    return add\n",
    "addition() "
   ]
  },
  {
   "cell_type": "code",
   "execution_count": null,
   "id": "e9d6adff-846c-4170-b421-083fc12c56e2",
   "metadata": {},
   "outputs": [],
   "source": []
  },
  {
   "cell_type": "markdown",
   "id": "e9dc2c7f-416a-48bc-8c0f-5dacab7630b2",
   "metadata": {},
   "source": [
    "# 2.Write a Python program to Multiply all numbers in the list?"
   ]
  },
  {
   "cell_type": "code",
   "execution_count": 10,
   "id": "a9a469ca-7f20-4c3a-8b5d-d247588dafe9",
   "metadata": {},
   "outputs": [
    {
     "data": {
      "text/plain": [
       "2520"
      ]
     },
     "execution_count": 10,
     "metadata": {},
     "output_type": "execute_result"
    }
   ],
   "source": [
    "def multiply():\n",
    "    n = [2,4,21,3,5]\n",
    "    mul = 1\n",
    "    for i in n:\n",
    "        #print(i)\n",
    "        mul = mul * i\n",
    "    return mul\n",
    "multiply() "
   ]
  },
  {
   "cell_type": "code",
   "execution_count": null,
   "id": "08edeba3-12e5-4a24-a4d3-5026010fab9f",
   "metadata": {},
   "outputs": [],
   "source": []
  },
  {
   "cell_type": "markdown",
   "id": "80e0c21c-5f28-46f3-a49c-cc03b19006a0",
   "metadata": {},
   "source": [
    "# 3.Write a Python program to find smallest number in a list?"
   ]
  },
  {
   "cell_type": "code",
   "execution_count": 17,
   "id": "9a50d9a2-e685-4590-b78a-f7faafd9b6a6",
   "metadata": {},
   "outputs": [],
   "source": [
    "def smallest():\n",
    "    n = [10,4,6,8,0,3]\n",
    "    small = 1\n",
    "    for i in n:\n",
    "        #print(i)\n",
    "        if i < small:\n",
    "            small = i\n",
    "    return small"
   ]
  },
  {
   "cell_type": "code",
   "execution_count": 18,
   "id": "a8d9d6de-4304-446f-9ef0-e33c7b27c85b",
   "metadata": {},
   "outputs": [
    {
     "data": {
      "text/plain": [
       "0"
      ]
     },
     "execution_count": 18,
     "metadata": {},
     "output_type": "execute_result"
    }
   ],
   "source": [
    "smallest()"
   ]
  },
  {
   "cell_type": "code",
   "execution_count": null,
   "id": "ac06e524-fd99-4f53-9915-c25100dbde20",
   "metadata": {},
   "outputs": [],
   "source": []
  },
  {
   "cell_type": "markdown",
   "id": "9775603a-bf06-4fab-84ee-f1976df4dd34",
   "metadata": {},
   "source": [
    "# 4. Write a Python program to find largest number in a list?"
   ]
  },
  {
   "cell_type": "code",
   "execution_count": 25,
   "id": "32ecdeaa-cd2a-4e45-95b4-99c10c501dfc",
   "metadata": {},
   "outputs": [
    {
     "name": "stdout",
     "output_type": "stream",
     "text": [
      "the largest number among list is  10\n"
     ]
    }
   ],
   "source": [
    "def largest():\n",
    "    n = [10,4,6,8,0,3]\n",
    "    print(\"the largest number among list is \",max(n))\n",
    "largest()"
   ]
  },
  {
   "cell_type": "code",
   "execution_count": null,
   "id": "a9a3a292-d582-4f55-acab-a5a600f493f7",
   "metadata": {},
   "outputs": [],
   "source": []
  },
  {
   "cell_type": "markdown",
   "id": "67e24d48-2932-469a-a82f-6942491da596",
   "metadata": {},
   "source": [
    "# 5.Write a Python program to find second largest number in a list?"
   ]
  },
  {
   "cell_type": "code",
   "execution_count": 45,
   "id": "6ba51090-f954-4ae5-bea1-087a26f85db4",
   "metadata": {},
   "outputs": [
    {
     "name": "stdout",
     "output_type": "stream",
     "text": [
      "85\n",
      "85\n"
     ]
    }
   ],
   "source": [
    "n = [10,34,23,23,65,74,85]\n",
    "for i in n :\n",
    "    #print(i)\n",
    "    if int(i) < 0:\n",
    "        large \n",
    "        print(max(i))\n",
    "print(max(n))\n",
    "print(i)\n",
    "        "
   ]
  },
  {
   "cell_type": "code",
   "execution_count": null,
   "id": "d070eb50-ae4b-4e97-964a-25799ad64d95",
   "metadata": {},
   "outputs": [],
   "source": []
  },
  {
   "cell_type": "markdown",
   "id": "dc5d7173-f14e-4787-92ef-a325ec1b7973",
   "metadata": {},
   "source": [
    "# 6.Write a Python Program to find N largest elements in the list ?"
   ]
  },
  {
   "cell_type": "code",
   "execution_count": 47,
   "id": "51a37246-529c-444d-9170-4af2b879e6a8",
   "metadata": {},
   "outputs": [
    {
     "name": "stdin",
     "output_type": "stream",
     "text": [
      "Enter the number to find the largest elements: 34\n"
     ]
    },
    {
     "name": "stdout",
     "output_type": "stream",
     "text": [
      "largest Numbers are 34\n",
      "largest Numbers are 65\n",
      "largest Numbers are 74\n",
      "largest Numbers are 85\n"
     ]
    }
   ],
   "source": [
    "n = [10,34,23,23,65,74,85]\n",
    "N = int(input(\"Enter the number to find the largest elements:\"))\n",
    "for i in n:\n",
    "    if i >= N:\n",
    "        print(f\"largest Numbers are {i}\")"
   ]
  },
  {
   "cell_type": "code",
   "execution_count": null,
   "id": "05ece118-2f87-4312-ad60-7d5bd24a48d9",
   "metadata": {},
   "outputs": [],
   "source": []
  },
  {
   "cell_type": "markdown",
   "id": "7ea71e47-796a-4db0-9d1d-bd6b389ec61a",
   "metadata": {},
   "source": [
    "# 7.Write a Python Program to find even numbers in the list ?"
   ]
  },
  {
   "cell_type": "code",
   "execution_count": 48,
   "id": "b22e1b98-8636-4f6d-bbce-14d79e757028",
   "metadata": {},
   "outputs": [
    {
     "name": "stdout",
     "output_type": "stream",
     "text": [
      "10\n",
      "34\n",
      "74\n"
     ]
    }
   ],
   "source": [
    "n = [10,34,23,23,65,74,85]\n",
    "for i in n:\n",
    "    if i % 2 == 0:\n",
    "        print(i)"
   ]
  },
  {
   "cell_type": "code",
   "execution_count": null,
   "id": "0de28d7f-c0fe-47e3-93c1-eff717611573",
   "metadata": {},
   "outputs": [],
   "source": []
  },
  {
   "cell_type": "markdown",
   "id": "4d0f0dbd-7df4-4248-bea8-3f365e95a91a",
   "metadata": {},
   "source": [
    "# 8.Write a Python Program to find odd numbers in the list ?"
   ]
  },
  {
   "cell_type": "code",
   "execution_count": 49,
   "id": "896c6b9a-ebc7-4f89-bc4f-cd3e28e2d550",
   "metadata": {},
   "outputs": [
    {
     "name": "stdout",
     "output_type": "stream",
     "text": [
      "23\n",
      "23\n",
      "65\n",
      "85\n"
     ]
    }
   ],
   "source": [
    "n = [10,34,23,23,65,74,85]\n",
    "for i in n:\n",
    "    if i % 2 != 0:\n",
    "        print(i)"
   ]
  },
  {
   "cell_type": "code",
   "execution_count": null,
   "id": "8aff986a-63f9-44b1-a688-320e36e33b7f",
   "metadata": {},
   "outputs": [],
   "source": []
  },
  {
   "cell_type": "markdown",
   "id": "8394b5d7-f168-410d-9553-89f29c673962",
   "metadata": {},
   "source": [
    "# 9.Write a Python Program to remove empty list from list ?"
   ]
  },
  {
   "cell_type": "code",
   "execution_count": 84,
   "id": "cab2efc1-c3ef-4962-8a7d-3f7bcc4a6f25",
   "metadata": {},
   "outputs": [
    {
     "name": "stdout",
     "output_type": "stream",
     "text": [
      "[10, 34, 23, 23, 65, 74, 85]\n"
     ]
    }
   ],
   "source": [
    "n = [10,34,23,23,65,74,85,[]]\n",
    "n.remove([])\n",
    "print(n)\n",
    "        "
   ]
  },
  {
   "cell_type": "code",
   "execution_count": null,
   "id": "6d7ff336-7a03-447b-8823-627330024d7c",
   "metadata": {},
   "outputs": [],
   "source": []
  },
  {
   "cell_type": "markdown",
   "id": "9caf80c0-7f5a-4663-8c3a-84a7d032f04d",
   "metadata": {},
   "source": [
    "# 10.Write a Python Program to Cloning or Copying a list ?"
   ]
  },
  {
   "cell_type": "code",
   "execution_count": 74,
   "id": "40f52b55-6f1a-4f13-ac5f-bdf1e531ffc3",
   "metadata": {},
   "outputs": [
    {
     "name": "stdout",
     "output_type": "stream",
     "text": [
      "the clone list is [10, 34, 23, 23, 65, 74, 85]\n"
     ]
    }
   ],
   "source": [
    "n = [10,34,23,23,65,74,85]\n",
    "clone_n=n.copy()\n",
    "print(f\"the clone list is {clone_n}\")"
   ]
  },
  {
   "cell_type": "code",
   "execution_count": null,
   "id": "d76cb5f5-6157-4541-bf09-8db7640a3ef6",
   "metadata": {},
   "outputs": [],
   "source": []
  },
  {
   "cell_type": "markdown",
   "id": "f66d78b5-2448-4724-8c2f-6e1ef5903b5e",
   "metadata": {},
   "source": [
    "# 11.Write a Python Program to count occurences of an element in a list ?"
   ]
  },
  {
   "cell_type": "code",
   "execution_count": 81,
   "id": "d2ac9dbc-dda0-4d9b-9231-927729e04564",
   "metadata": {},
   "outputs": [
    {
     "name": "stdout",
     "output_type": "stream",
     "text": [
      "10 is repeated 2 times\n",
      "23 is repeated 2 times\n",
      "23 is repeated 2 times\n",
      "74 is repeated 2 times\n",
      "85 is repeated 3 times\n",
      "10 is repeated 2 times\n",
      "74 is repeated 2 times\n",
      "85 is repeated 3 times\n",
      "85 is repeated 3 times\n"
     ]
    }
   ],
   "source": [
    "n = [10,34,23,23,65,74,85,10,74,85,85]\n",
    "for i in n:\n",
    "    if n.count(i)>1:\n",
    "        print(f\"{i} is repeated {n.count(i)} times\")"
   ]
  },
  {
   "cell_type": "code",
   "execution_count": null,
   "id": "37b76d8b-1767-4e6f-be00-820a784c0221",
   "metadata": {},
   "outputs": [],
   "source": []
  }
 ],
 "metadata": {
  "kernelspec": {
   "display_name": "Python 3 (ipykernel)",
   "language": "python",
   "name": "python3"
  },
  "language_info": {
   "codemirror_mode": {
    "name": "ipython",
    "version": 3
   },
   "file_extension": ".py",
   "mimetype": "text/x-python",
   "name": "python",
   "nbconvert_exporter": "python",
   "pygments_lexer": "ipython3",
   "version": "3.10.6"
  }
 },
 "nbformat": 4,
 "nbformat_minor": 5
}
