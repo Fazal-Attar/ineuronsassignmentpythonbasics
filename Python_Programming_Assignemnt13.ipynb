{
 "cells": [
  {
   "cell_type": "markdown",
   "id": "993c24f4-0e1b-46b6-94f6-f625bbe5e1b6",
   "metadata": {},
   "source": [
    "Question 1: \n",
    "Write a program that calculates and prints the value according to the given formula:\n",
    "Q = Square root of [(2 * C * D)/H]\n",
    "Following are the fixed values of C and H:\n",
    "C is 50. H is 30.\n",
    "D is the variable whose values should be input to your program in a comma-separated\n",
    "sequence.\n",
    "Example\n",
    "Let us assume the following comma separated input sequence is given to the program:\n",
    "100,150,180\n",
    "The output of the program should be:\n",
    "18,22,24"
   ]
  },
  {
   "cell_type": "code",
   "execution_count": 11,
   "id": "62b6827f-f069-45b6-bda7-0cd980c54eb1",
   "metadata": {},
   "outputs": [],
   "source": [
    "from math import sqrt\n",
    "def calc():\n",
    "    n = eval(input(\"Enter the 3 numbers to compute:\"))\n",
    "    out_num = []\n",
    "    C = 50\n",
    "    H = 30\n",
    "    for ele in n:\n",
    "        print(ele)\n",
    "        result = str(int(sqrt(2*C*ele)/H))\n",
    "        out_num.append(result)\n",
    "    print(\"Output{}\".format(\",\".join(out_num)))"
   ]
  },
  {
   "cell_type": "code",
   "execution_count": 12,
   "id": "fd0fd567-ede6-400e-a495-95d7b3e386fe",
   "metadata": {},
   "outputs": [
    {
     "name": "stdin",
     "output_type": "stream",
     "text": [
      "Enter the 3 numbers to compute: 100,150,180\n"
     ]
    },
    {
     "name": "stdout",
     "output_type": "stream",
     "text": [
      "100\n",
      "150\n",
      "180\n",
      "Output3,4,4\n"
     ]
    }
   ],
   "source": [
    "calc()"
   ]
  },
  {
   "cell_type": "code",
   "execution_count": null,
   "id": "7590aa52-3635-48e6-aaa2-5fc231835aae",
   "metadata": {},
   "outputs": [],
   "source": []
  },
  {
   "cell_type": "markdown",
   "id": "947308fe-61b2-4ade-bb1d-f93761469074",
   "metadata": {},
   "source": [
    "Quaetion 2 :\n",
    "Write a program which takes 2 digits, X,Y as input and generates a 2-dimensional array. The\n",
    "element value in the i-th row and j-th column of the array should be i*j.\n",
    "Note: i=0,1.., X-1; j=0,1,¡Y-1.\n",
    "Example\n",
    "Suppose the following inputs are given to the program:\n",
    "3,5\n",
    "Then, the output of the program should be:\n",
    "[[0, 0, 0, 0, 0], [0, 1, 2, 3, 4], [0, 2, 4, 6, 8]]"
   ]
  },
  {
   "cell_type": "code",
   "execution_count": 30,
   "id": "37f9150e-a543-4bd7-a8df-4e01cb65df97",
   "metadata": {},
   "outputs": [],
   "source": [
    "def arr(x,y):\n",
    "    arr = []\n",
    "    for i in range(x):\n",
    "        row = []\n",
    "        #print(row)\n",
    "        for j in range(y):\n",
    "            row.append(i*j)\n",
    "        arr.append(row)\n",
    "    return arr"
   ]
  },
  {
   "cell_type": "code",
   "execution_count": 32,
   "id": "508160bf-2f62-4cb6-a04d-3d64694d64a9",
   "metadata": {},
   "outputs": [
    {
     "data": {
      "text/plain": [
       "[[0, 0, 0], [0, 1, 2]]"
      ]
     },
     "execution_count": 32,
     "metadata": {},
     "output_type": "execute_result"
    }
   ],
   "source": [
    "arr(2,3)"
   ]
  },
  {
   "cell_type": "raw",
   "id": "70c2d5f8-83c3-4016-8fea-22834f387c57",
   "metadata": {},
   "source": []
  },
  {
   "cell_type": "markdown",
   "id": "3ff3e85a-5003-4d76-968e-2981a901499a",
   "metadata": {},
   "source": [
    "Question 3:\n",
    "Write a program that accepts a comma separated sequence of words as input and prints the\n",
    "words in a comma-separated sequence after sorting them alphabetically.\n",
    "Suppose the following input is supplied to the program:\n",
    "without,hello,bag,world\n",
    "Then, the output should be:\n",
    "bag,hello,without,world"
   ]
  },
  {
   "cell_type": "code",
   "execution_count": 2,
   "id": "dff5a5d9-2ec0-43c7-90e1-b745de6aed21",
   "metadata": {},
   "outputs": [],
   "source": [
    "def ssorting():\n",
    "    string = \"without,hello,bag,world\"\n",
    "    output = \",\".join(sorted(string.split(\",\")))\n",
    "    print(output)"
   ]
  },
  {
   "cell_type": "raw",
   "id": "a5c9e9e5-cc92-4d5d-875d-b7dbfec29c54",
   "metadata": {},
   "source": [
    "ssorting()"
   ]
  },
  {
   "cell_type": "code",
   "execution_count": null,
   "id": "8e4f7c00-85f9-435f-89df-e6849d40c41d",
   "metadata": {},
   "outputs": [],
   "source": []
  },
  {
   "cell_type": "markdown",
   "id": "81bb001f-fe7e-4af6-bfef-b9674fbdedd9",
   "metadata": {},
   "source": [
    "question4 : Write a program that accepts a sequence of whitespace separated words as input and prints the words after removing all duplicate words and sorting them alphanumerically.\n",
    "Suppose the following input is supplied to the program: hello world and practice makes perfect and hello world again Then, the output should be: again and hello makes perfect practice world"
   ]
  },
  {
   "cell_type": "code",
   "execution_count": 5,
   "id": "313a8210-24e4-4781-8112-bbb4fe0e5df2",
   "metadata": {},
   "outputs": [],
   "source": [
    "def ssorting():\n",
    "    string = \"hello world and practice makes perfect and hello world again\"\n",
    "    output = \",\".join(set(string.split(\" \")))\n",
    "    print(output)"
   ]
  },
  {
   "cell_type": "code",
   "execution_count": 6,
   "id": "934d768c-6c60-4539-85dd-507bd94c36d8",
   "metadata": {},
   "outputs": [
    {
     "name": "stdout",
     "output_type": "stream",
     "text": [
      "again,perfect,and,practice,world,makes,hello\n"
     ]
    }
   ],
   "source": [
    "ssorting()"
   ]
  },
  {
   "cell_type": "code",
   "execution_count": null,
   "id": "eb9944b1-4bee-4aff-9d89-39668bc49844",
   "metadata": {},
   "outputs": [],
   "source": []
  },
  {
   "cell_type": "markdown",
   "id": "b808f674-1e94-4985-b087-dc9ddeb44395",
   "metadata": {},
   "source": [
    "Quaetion5:Write a program that accepts a sentence and calculate the number of letters and digits."
   ]
  },
  {
   "cell_type": "code",
   "execution_count": 7,
   "id": "87f3c331-2ae0-45d9-bcd1-4f1554b90e98",
   "metadata": {},
   "outputs": [
    {
     "name": "stdout",
     "output_type": "stream",
     "text": [
      "LETTER: 10 \n",
      " DIGITS: 3\n"
     ]
    }
   ],
   "source": [
    "string = \"hello world! 123\"\n",
    "let = \"abcdefghijklmnopqrstuvwxyz\"\n",
    "num = \"0123654789\"\n",
    "letters = 0\n",
    "digits = 0\n",
    "for i in string:\n",
    "    if i in let:\n",
    "        letters= letters+1\n",
    "    if i in num:\n",
    "        digits=digits+1\n",
    "        \n",
    "print(f\"LETTER: {letters} \\n DIGITS: {digits}\")"
   ]
  },
  {
   "cell_type": "code",
   "execution_count": null,
   "id": "852bad1a-f22b-430d-9811-dd8b3825a15b",
   "metadata": {},
   "outputs": [],
   "source": []
  },
  {
   "cell_type": "code",
   "execution_count": null,
   "id": "ccf01790-79fc-4c6f-8974-07b5bdcd5088",
   "metadata": {},
   "outputs": [],
   "source": []
  }
 ],
 "metadata": {
  "kernelspec": {
   "display_name": "Python 3 (ipykernel)",
   "language": "python",
   "name": "python3"
  },
  "language_info": {
   "codemirror_mode": {
    "name": "ipython",
    "version": 3
   },
   "file_extension": ".py",
   "mimetype": "text/x-python",
   "name": "python",
   "nbconvert_exporter": "python",
   "pygments_lexer": "ipython3",
   "version": "3.10.6"
  }
 },
 "nbformat": 4,
 "nbformat_minor": 5
}
