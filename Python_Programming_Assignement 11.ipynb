{
 "cells": [
  {
   "cell_type": "markdown",
   "id": "ef208e26-b449-41fb-901a-e5b1dcda30f0",
   "metadata": {},
   "source": [
    "# 1.Write a Python program to find words which are greater than given length k?"
   ]
  },
  {
   "cell_type": "code",
   "execution_count": 7,
   "id": "2b38c92a-3149-4444-8470-bd79f4809ed1",
   "metadata": {},
   "outputs": [
    {
     "name": "stdout",
     "output_type": "stream",
     "text": [
      "Full\n",
      "stack\n",
      "data\n",
      "science\n",
      "['science']\n"
     ]
    }
   ],
   "source": [
    "s = \"Full stack data science\"\n",
    "word = []\n",
    "for i in s.split(\" \"):\n",
    "    print(i)\n",
    "    if len(i)> 5:\n",
    "        word.append(i)\n",
    "print(word)\n",
    "    "
   ]
  },
  {
   "cell_type": "code",
   "execution_count": null,
   "id": "3b1ca004-3d82-45d5-ade1-a9abe35f6b61",
   "metadata": {},
   "outputs": [],
   "source": []
  },
  {
   "cell_type": "markdown",
   "id": "d47edcff-c784-4dd3-b02a-eb10afbac8c3",
   "metadata": {},
   "source": [
    "# 2.Write a Python program for removing i-th character from a string?"
   ]
  },
  {
   "cell_type": "code",
   "execution_count": 30,
   "id": "937a7572-6279-4d0e-ae23-f73604612bba",
   "metadata": {},
   "outputs": [
    {
     "name": "stdin",
     "output_type": "stream",
     "text": [
      "Enter the i th character 4\n"
     ]
    },
    {
     "name": "stdout",
     "output_type": "stream",
     "text": [
      "Fullstack data science\n"
     ]
    }
   ],
   "source": [
    "s = \"Full stack data science\"\n",
    "n = int(input(\"Enter the i th character\"))\n",
    "w = \"\"\n",
    "for i in range(len(s)):\n",
    "    #print(i)\n",
    "    if i != n:\n",
    "        w = w + s[i]\n",
    "print(w)"
   ]
  },
  {
   "cell_type": "code",
   "execution_count": null,
   "id": "92fd8cf3-e203-4775-8364-f66ba19fbdbc",
   "metadata": {},
   "outputs": [],
   "source": []
  },
  {
   "cell_type": "markdown",
   "id": "d2913c50-ec12-4403-ba44-2a8708f17d83",
   "metadata": {},
   "source": [
    "# 3. Write a Python program to split and join a string ?"
   ]
  },
  {
   "cell_type": "code",
   "execution_count": 33,
   "id": "3ca8b399-8f77-4ca5-9a97-822fd846ce56",
   "metadata": {},
   "outputs": [
    {
     "name": "stdout",
     "output_type": "stream",
     "text": [
      "Full.stack.data.science\n"
     ]
    }
   ],
   "source": [
    "s = \"Full stack data science\"\n",
    "a = \".\".join(s.split(\" \"))\n",
    "print(a)"
   ]
  },
  {
   "cell_type": "code",
   "execution_count": null,
   "id": "34d3121a-6381-4fe7-b25b-4dfb08e2daad",
   "metadata": {},
   "outputs": [],
   "source": []
  },
  {
   "cell_type": "markdown",
   "id": "2496aa3c-78ba-4db7-82ce-a2fc3ad02dc7",
   "metadata": {},
   "source": [
    "# 4. Write a Python to check if a given string is binary string or not ?"
   ]
  },
  {
   "cell_type": "code",
   "execution_count": 37,
   "id": "e4b2105d-96ae-4de0-b7ee-d7effe8894b3",
   "metadata": {},
   "outputs": [
    {
     "name": "stdin",
     "output_type": "stream",
     "text": [
      "Enter the string 10101\n"
     ]
    },
    {
     "name": "stdout",
     "output_type": "stream",
     "text": [
      "The given string is binary\n",
      "The given string is binary\n",
      "The given string is binary\n",
      "The given string is binary\n",
      "The given string is binary\n"
     ]
    }
   ],
   "source": [
    "b = '0','1'\n",
    "s = str(input(\"Enter the string\"))\n",
    "for i in s :\n",
    "    if i in b : \n",
    "        print(\"The given string is binary\")"
   ]
  },
  {
   "cell_type": "code",
   "execution_count": null,
   "id": "2b2f6936-2725-4b43-bee0-35b42a952f3c",
   "metadata": {},
   "outputs": [],
   "source": []
  },
  {
   "cell_type": "code",
   "execution_count": 38,
   "id": "a4b1dc81-2d9f-4147-b6dd-9eccf4976b63",
   "metadata": {},
   "outputs": [],
   "source": [
    "# 5.Write a Python program to find uncommon words from two Strings ?"
   ]
  },
  {
   "cell_type": "code",
   "execution_count": 48,
   "id": "046142bb-d52d-4758-9335-adaad54fd181",
   "metadata": {},
   "outputs": [
    {
     "name": "stdin",
     "output_type": "stream",
     "text": [
      "Enter the string data science\n",
      "Enter a string data analyst\n"
     ]
    },
    {
     "name": "stdout",
     "output_type": "stream",
     "text": [
      "{'science', 'analyst'}\n"
     ]
    }
   ],
   "source": [
    "a = set(input(\"Enter the string\").split(\" \"))\n",
    "#print(type(a))\n",
    "b = set(input(\"Enter a string\").split(\" \"))\n",
    "c = (a.union(b)).difference(a.intersection(b))\n",
    "print(c)\n"
   ]
  },
  {
   "cell_type": "code",
   "execution_count": null,
   "id": "e76d7260-5a3f-494f-9f25-ff6a2383b04d",
   "metadata": {},
   "outputs": [],
   "source": []
  },
  {
   "cell_type": "markdown",
   "id": "6f86308b-2239-4a46-9696-a9747e40a303",
   "metadata": {},
   "source": [
    "# 6. Write a Python to find all duplicate characters in string ?"
   ]
  },
  {
   "cell_type": "code",
   "execution_count": 22,
   "id": "6dcd1fb8-d91a-4b8b-befe-c7ec6e716170",
   "metadata": {},
   "outputs": [
    {
     "name": "stdout",
     "output_type": "stream",
     "text": [
      "['T', 'h', 'e', ' ', 'b', 'e', 's', 't', ' ', 'c', 'o', 'u', 'r', 's', 'e', ' ', 'i', 'n', ' ', 'i', 'n', 'd', 'u', 's', 't', 'r', 'y']\n",
      "['d', 'n', 'r', 'c', 'y', 's', 'b', 't', 'e', 'u', 'i', ' ', 'o', 'T', 'h']\n"
     ]
    }
   ],
   "source": [
    "s = \"The best course in industry\"\n",
    "duplicate = []\n",
    "non_dulpicate = []\n",
    "for i in s:\n",
    "    #print(f\"non_duplicate={non_dulpicate}\")\n",
    "    if i not in non_dulpicate:\n",
    "        duplicate.append(i)\n",
    "print(f\"{duplicate}\")\n",
    "print(list(set(duplicate)))"
   ]
  },
  {
   "cell_type": "code",
   "execution_count": 8,
   "id": "5c8d9459-4ad4-4803-bfe0-ea6337290000",
   "metadata": {},
   "outputs": [],
   "source": []
  },
  {
   "cell_type": "markdown",
   "id": "dc98ef35-252b-4ddf-8a26-7b12da449e12",
   "metadata": {},
   "source": [
    "# 7. Write a Python Program to check if a string contains any special character"
   ]
  },
  {
   "cell_type": "code",
   "execution_count": 25,
   "id": "753ad078-2874-4c80-82b2-7d9592ba7645",
   "metadata": {},
   "outputs": [
    {
     "name": "stdin",
     "output_type": "stream",
     "text": [
      "Enter the string with special characters: Fazal!@#\n"
     ]
    },
    {
     "name": "stdout",
     "output_type": "stream",
     "text": [
      "so the speacial character are ['!', '@', '#']\n"
     ]
    }
   ],
   "source": [
    "spl_char = \"!@#$%^&*<>?:\"\n",
    "s = str(input(\"Enter the string with special characters:\"))\n",
    "char = []\n",
    "for i in s:\n",
    "    if i in spl_char:\n",
    "        char.append(i)\n",
    "print(f\"so the speacial character are {char}\")"
   ]
  },
  {
   "cell_type": "code",
   "execution_count": null,
   "id": "022410e2-53d5-4954-953d-6004c8ff8cb3",
   "metadata": {},
   "outputs": [],
   "source": []
  }
 ],
 "metadata": {
  "kernelspec": {
   "display_name": "Python 3 (ipykernel)",
   "language": "python",
   "name": "python3"
  },
  "language_info": {
   "codemirror_mode": {
    "name": "ipython",
    "version": 3
   },
   "file_extension": ".py",
   "mimetype": "text/x-python",
   "name": "python",
   "nbconvert_exporter": "python",
   "pygments_lexer": "ipython3",
   "version": "3.10.6"
  }
 },
 "nbformat": 4,
 "nbformat_minor": 5
}
