{
 "cells": [
  {
   "cell_type": "markdown",
   "id": "5bd3dfca-5c7d-4d27-9876-e1b2f1a4bd00",
   "metadata": {},
   "source": [
    "# 1.Write a Python program to convert kilometers to miles?"
   ]
  },
  {
   "cell_type": "code",
   "execution_count": 4,
   "id": "50234300-4d39-448c-8ab5-7bd56f9e5611",
   "metadata": {},
   "outputs": [
    {
     "name": "stdin",
     "output_type": "stream",
     "text": [
      "Enter the Kilometers to covert to miles: 10\n"
     ]
    },
    {
     "name": "stdout",
     "output_type": "stream",
     "text": [
      "10.0 km is equal to 6.21 miles\n"
     ]
    }
   ],
   "source": [
    "def km_to_mile():\n",
    "    kilometer = float(input(\"Enter the Kilometers to covert to miles:\"))\n",
    "    print(\"{} km is equal to {} miles\".format(kilometer,kilometer*0.621))\n",
    "km_to_mile()"
   ]
  },
  {
   "cell_type": "code",
   "execution_count": null,
   "id": "b9173aee-7012-4621-95d0-4adb41012a6d",
   "metadata": {},
   "outputs": [],
   "source": []
  },
  {
   "cell_type": "markdown",
   "id": "a613e5fb-8fd3-4504-8c55-ca026f78c000",
   "metadata": {},
   "source": [
    "# 2.Write a Python program to convert Celsius to Farenheit ?"
   ]
  },
  {
   "cell_type": "code",
   "execution_count": 5,
   "id": "a7ec1391-0c04-4e08-a28f-0a673f19b0a3",
   "metadata": {},
   "outputs": [
    {
     "name": "stdin",
     "output_type": "stream",
     "text": [
      "Enter the celsius to covert to Farenheit: 12\n"
     ]
    },
    {
     "name": "stdout",
     "output_type": "stream",
     "text": [
      "12.0 celsius is equal to 59.6 Farenheit\n"
     ]
    }
   ],
   "source": [
    "def cel_to_far():\n",
    "    celsius = float(input(\"Enter the celsius to covert to Farenheit:\"))\n",
    "    print(\"{} celsius is equal to {} Farenheit\".format(celsius,(celsius*9/5)+38))\n",
    "cel_to_far()"
   ]
  },
  {
   "cell_type": "code",
   "execution_count": null,
   "id": "eaf6519e-ef1f-4c32-b866-8622bdc4e447",
   "metadata": {},
   "outputs": [],
   "source": []
  },
  {
   "cell_type": "markdown",
   "id": "2db7f04a-2c56-43a6-8e7b-202dc4302ed1",
   "metadata": {},
   "source": [
    "# 3.Write a Python program to display calender ?"
   ]
  },
  {
   "cell_type": "code",
   "execution_count": 15,
   "id": "5e4eb129-d63a-4215-b935-d08e81cb5498",
   "metadata": {},
   "outputs": [
    {
     "name": "stdin",
     "output_type": "stream",
     "text": [
      "Enter the year to display calender: 2022\n"
     ]
    },
    {
     "name": "stdout",
     "output_type": "stream",
     "text": [
      "                                  2022\n",
      "\n",
      "      January                   February                   March\n",
      "Mo Tu We Th Fr Sa Su      Mo Tu We Th Fr Sa Su      Mo Tu We Th Fr Sa Su\n",
      "                1  2          1  2  3  4  5  6          1  2  3  4  5  6\n",
      " 3  4  5  6  7  8  9       7  8  9 10 11 12 13       7  8  9 10 11 12 13\n",
      "10 11 12 13 14 15 16      14 15 16 17 18 19 20      14 15 16 17 18 19 20\n",
      "17 18 19 20 21 22 23      21 22 23 24 25 26 27      21 22 23 24 25 26 27\n",
      "24 25 26 27 28 29 30      28                        28 29 30 31\n",
      "31\n",
      "\n",
      "       April                      May                       June\n",
      "Mo Tu We Th Fr Sa Su      Mo Tu We Th Fr Sa Su      Mo Tu We Th Fr Sa Su\n",
      "             1  2  3                         1             1  2  3  4  5\n",
      " 4  5  6  7  8  9 10       2  3  4  5  6  7  8       6  7  8  9 10 11 12\n",
      "11 12 13 14 15 16 17       9 10 11 12 13 14 15      13 14 15 16 17 18 19\n",
      "18 19 20 21 22 23 24      16 17 18 19 20 21 22      20 21 22 23 24 25 26\n",
      "25 26 27 28 29 30         23 24 25 26 27 28 29      27 28 29 30\n",
      "                          30 31\n",
      "\n",
      "        July                     August                  September\n",
      "Mo Tu We Th Fr Sa Su      Mo Tu We Th Fr Sa Su      Mo Tu We Th Fr Sa Su\n",
      "             1  2  3       1  2  3  4  5  6  7                1  2  3  4\n",
      " 4  5  6  7  8  9 10       8  9 10 11 12 13 14       5  6  7  8  9 10 11\n",
      "11 12 13 14 15 16 17      15 16 17 18 19 20 21      12 13 14 15 16 17 18\n",
      "18 19 20 21 22 23 24      22 23 24 25 26 27 28      19 20 21 22 23 24 25\n",
      "25 26 27 28 29 30 31      29 30 31                  26 27 28 29 30\n",
      "\n",
      "      October                   November                  December\n",
      "Mo Tu We Th Fr Sa Su      Mo Tu We Th Fr Sa Su      Mo Tu We Th Fr Sa Su\n",
      "                1  2          1  2  3  4  5  6                1  2  3  4\n",
      " 3  4  5  6  7  8  9       7  8  9 10 11 12 13       5  6  7  8  9 10 11\n",
      "10 11 12 13 14 15 16      14 15 16 17 18 19 20      12 13 14 15 16 17 18\n",
      "17 18 19 20 21 22 23      21 22 23 24 25 26 27      19 20 21 22 23 24 25\n",
      "24 25 26 27 28 29 30      28 29 30                  26 27 28 29 30 31\n",
      "31\n",
      "\n"
     ]
    }
   ],
   "source": [
    "import calendar\n",
    "def calendar_display():\n",
    "    year = int(input(\"Enter the year to display calender:\"))\n",
    "    print(calendar.calendar(year))\n",
    "calendar_display()\n",
    "    "
   ]
  },
  {
   "cell_type": "code",
   "execution_count": null,
   "id": "de942138-b74f-4b10-98d9-35e1abc9e1b7",
   "metadata": {},
   "outputs": [],
   "source": []
  },
  {
   "cell_type": "markdown",
   "id": "cf671421-dcd5-4415-9ede-37199936b5b2",
   "metadata": {},
   "source": [
    "# 4. Write a Python program to solve quadartic equation ?"
   ]
  },
  {
   "cell_type": "code",
   "execution_count": 20,
   "id": "8b21953a-6a92-4b00-b241-8fc2deef3a84",
   "metadata": {},
   "outputs": [
    {
     "name": "stdin",
     "output_type": "stream",
     "text": [
      "Enter the value:  18\n",
      "Enter the value:  14\n",
      "Enter the value:  26\n"
     ]
    },
    {
     "name": "stdout",
     "output_type": "stream",
     "text": [
      "There is 2 imaginary solutions (-0.3888888888888889+1.13719386058104j) (-0.3888888888888889-1.13719386058104j)\n"
     ]
    }
   ],
   "source": [
    "import math\n",
    "import cmath\n",
    "def sol_quadratic(a,b,c):\n",
    "    discriminant = b*b-4*a*c\n",
    "    if discriminant == 0:\n",
    "        r1=(-b+math.sqrt(discriminant))/(2*a)\n",
    "        r2=(-b-math.sqrt(discriminant))/(2*a)\n",
    "        print(\"There is only 1 solutions\",r1,r2)\n",
    "    elif discriminant > 0:\n",
    "        r1=(-b+math.sqrt(discriminant))/(2*a)\n",
    "        r2=(-b-math.sqrt(discriminant))/(2*a)\n",
    "        print(\"There is 2 real solutions\",r1,r2)\n",
    "    else:\n",
    "        r1=(-b+cmath.sqrt(discriminant))/(2*a)\n",
    "        r2=(-b-cmath.sqrt(discriminant))/(2*a)\n",
    "        print(\"There is 2 imaginary solutions\",r1,r2)\n",
    "        \n",
    "a = int(input(\"Enter the value: \"))\n",
    "b = int(input(\"Enter the value: \"))\n",
    "c = int(input(\"Enter the value: \"))\n",
    "\n",
    "sol_quadratic(a,b,c)\n",
    "        "
   ]
  },
  {
   "cell_type": "code",
   "execution_count": null,
   "id": "381831ac-ad80-443d-8dbe-d8d52b8464b1",
   "metadata": {},
   "outputs": [],
   "source": []
  },
  {
   "cell_type": "markdown",
   "id": "6ca2856d-6f52-4635-8ea3-0f2460feddf1",
   "metadata": {},
   "source": [
    "# 5.Write a Python program to swap two variables without temp variable"
   ]
  },
  {
   "cell_type": "code",
   "execution_count": 23,
   "id": "375b73c4-0e23-4525-ab4f-edc9e06a693c",
   "metadata": {},
   "outputs": [
    {
     "name": "stdin",
     "output_type": "stream",
     "text": [
      "Enter the number 1\n",
      "Enter the number 2\n"
     ]
    },
    {
     "name": "stdout",
     "output_type": "stream",
     "text": [
      "n1 = 2 , n2 = 1\n"
     ]
    }
   ],
   "source": [
    "n1 = int(input(\"Enter the number\"))\n",
    "n2 = int(input(\"Enter the number\"))\n",
    "\n",
    "def swap_num(n1,n2):\n",
    "    n1 = n1+n2\n",
    "    n2 = n1-n2\n",
    "    n1 = n1-n2\n",
    "    print(f\"n1 = {n1} , n2 = {n2}\")\n",
    "    \n",
    "swap_num(n1,n2)  \n",
    "    "
   ]
  },
  {
   "cell_type": "code",
   "execution_count": null,
   "id": "3d8d084e-54dc-4b97-8a06-ff9f17bb87de",
   "metadata": {},
   "outputs": [],
   "source": []
  }
 ],
 "metadata": {
  "kernelspec": {
   "display_name": "Python 3 (ipykernel)",
   "language": "python",
   "name": "python3"
  },
  "language_info": {
   "codemirror_mode": {
    "name": "ipython",
    "version": 3
   },
   "file_extension": ".py",
   "mimetype": "text/x-python",
   "name": "python",
   "nbconvert_exporter": "python",
   "pygments_lexer": "ipython3",
   "version": "3.10.6"
  }
 },
 "nbformat": 4,
 "nbformat_minor": 5
}
