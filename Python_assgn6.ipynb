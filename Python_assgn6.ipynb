{
 "cells": [
  {
   "cell_type": "markdown",
   "id": "b778e4f4-f0f1-4cf8-b568-e28c9cac3a12",
   "metadata": {},
   "source": [
    "# 1.What are Escape characters ? and how do you use them ?"
   ]
  },
  {
   "cell_type": "raw",
   "id": "006ea7ea-73f2-402b-a3c6-c82ade76ffc2",
   "metadata": {},
   "source": [
    "The escape character are /t and /n used in a string for space/tab and new line respectively. we can use them in \"\" along with a string.\n"
   ]
  },
  {
   "cell_type": "code",
   "execution_count": null,
   "id": "7ae48d23-a1f2-4ac4-b942-99aa4fcc6ebe",
   "metadata": {},
   "outputs": [],
   "source": []
  },
  {
   "cell_type": "markdown",
   "id": "07de9e9b-e890-4216-92b4-f5a96e6dee88",
   "metadata": {},
   "source": [
    "# 2.What do the escape characters n and t stand for ?"
   ]
  },
  {
   "cell_type": "raw",
   "id": "9913b596-be52-4027-98fd-fb40952a663b",
   "metadata": {},
   "source": [
    "/t stands for TAB\n",
    "/n stands for new line"
   ]
  },
  {
   "cell_type": "code",
   "execution_count": null,
   "id": "45b7bcd1-9383-4116-bb96-9c02309c14a4",
   "metadata": {},
   "outputs": [],
   "source": []
  },
  {
   "cell_type": "markdown",
   "id": "ee8ce06f-5f2f-444d-bb25-2028018f7439",
   "metadata": {},
   "source": [
    "# 3.What is the way to include backslash character in a string?"
   ]
  },
  {
   "cell_type": "raw",
   "id": "41d068c0-94a7-4a2a-babc-91f6c3c24b03",
   "metadata": {},
   "source": [
    "\"/\" is the only way to include the backlash along with the escape characters"
   ]
  },
  {
   "cell_type": "code",
   "execution_count": null,
   "id": "dee373fa-08c3-4a8d-9ed8-f8eccea1a225",
   "metadata": {},
   "outputs": [],
   "source": []
  },
  {
   "cell_type": "markdown",
   "id": "3b0a317d-b618-42e0-8f4e-645e86c14c92",
   "metadata": {},
   "source": [
    "# 4.The string \"Howl's Moving Castle\" is a correct value. Why isn't the single quote character in the word Howl's not escaped a problem ?"
   ]
  },
  {
   "cell_type": "raw",
   "id": "4b317b16-5535-4708-9ccf-29de050a3a99",
   "metadata": {},
   "source": [
    "The string \"Howl's Moving Castle\" is used under the double inverted commas. You can write anything inside anything double quotes."
   ]
  },
  {
   "cell_type": "code",
   "execution_count": null,
   "id": "d6e9e75d-d12a-4ba4-a43a-4a062b29124f",
   "metadata": {},
   "outputs": [],
   "source": []
  },
  {
   "cell_type": "markdown",
   "id": "c8652a25-ddfe-462f-aad8-3404554e3b84",
   "metadata": {},
   "source": [
    "# 5.How do you write a string of newlines if you don't want to use the n character?"
   ]
  },
  {
   "cell_type": "raw",
   "id": "4f33e4f8-4101-4e2d-bdba-66f06b45346c",
   "metadata": {},
   "source": [
    "Mutliline string can be used in place of /n "
   ]
  },
  {
   "cell_type": "code",
   "execution_count": null,
   "id": "a380d47c-9359-4f13-b7b6-98f0afb06b7b",
   "metadata": {},
   "outputs": [],
   "source": []
  },
  {
   "cell_type": "markdown",
   "id": "bfa6733d-67ea-4a4c-bd0e-6a460b30b0fc",
   "metadata": {},
   "source": [
    "# 6.What are the values of the given expressions ?"
   ]
  },
  {
   "cell_type": "code",
   "execution_count": 1,
   "id": "541c7004-f471-4690-b09a-46eaad584f99",
   "metadata": {},
   "outputs": [
    {
     "name": "stdout",
     "output_type": "stream",
     "text": [
      "e\n"
     ]
    }
   ],
   "source": [
    "print(\"Hello, world!\"[1])"
   ]
  },
  {
   "cell_type": "code",
   "execution_count": 2,
   "id": "94f5d860-9f2f-401d-a043-32e2e3959faf",
   "metadata": {},
   "outputs": [
    {
     "name": "stdout",
     "output_type": "stream",
     "text": [
      "hello\n"
     ]
    }
   ],
   "source": [
    "print(\"hello, World!\"[0:5])"
   ]
  },
  {
   "cell_type": "code",
   "execution_count": 3,
   "id": "dd068237-3a8a-41b5-81b1-1e8f5b7b81b3",
   "metadata": {},
   "outputs": [
    {
     "name": "stdout",
     "output_type": "stream",
     "text": [
      "hello\n"
     ]
    }
   ],
   "source": [
    "print(\"hello, World!\"[:5])"
   ]
  },
  {
   "cell_type": "code",
   "execution_count": 4,
   "id": "d8680ce9-a1a5-4345-a9ef-02a57162980e",
   "metadata": {},
   "outputs": [
    {
     "name": "stdout",
     "output_type": "stream",
     "text": [
      "lo, World!\n"
     ]
    }
   ],
   "source": [
    "print(\"hello, World!\"[3:])"
   ]
  },
  {
   "cell_type": "code",
   "execution_count": null,
   "id": "8735b7af-c067-4da3-9a2b-8505e13b1a03",
   "metadata": {},
   "outputs": [],
   "source": []
  },
  {
   "cell_type": "markdown",
   "id": "e56c4cf2-f869-47fd-8975-131a701db560",
   "metadata": {},
   "source": [
    "# 7.What are the values of the following expressions ?"
   ]
  },
  {
   "cell_type": "code",
   "execution_count": 5,
   "id": "35fa02b7-e77f-46d0-bd99-350300af9467",
   "metadata": {},
   "outputs": [
    {
     "data": {
      "text/plain": [
       "'HELLO'"
      ]
     },
     "execution_count": 5,
     "metadata": {},
     "output_type": "execute_result"
    }
   ],
   "source": [
    "'Hello'.upper()"
   ]
  },
  {
   "cell_type": "code",
   "execution_count": 6,
   "id": "ca1d5196-d5d6-427e-af6f-d15c70587966",
   "metadata": {},
   "outputs": [
    {
     "data": {
      "text/plain": [
       "True"
      ]
     },
     "execution_count": 6,
     "metadata": {},
     "output_type": "execute_result"
    }
   ],
   "source": [
    "'Hello'.upper().isupper()"
   ]
  },
  {
   "cell_type": "code",
   "execution_count": 7,
   "id": "bdaceafa-7e21-4a30-988a-de2ae530bb41",
   "metadata": {},
   "outputs": [
    {
     "data": {
      "text/plain": [
       "'hello'"
      ]
     },
     "execution_count": 7,
     "metadata": {},
     "output_type": "execute_result"
    }
   ],
   "source": [
    "'Hello'.upper().lower()"
   ]
  },
  {
   "cell_type": "code",
   "execution_count": null,
   "id": "54b318ee-acee-460c-b5a0-22aa1c1d857e",
   "metadata": {},
   "outputs": [],
   "source": []
  },
  {
   "cell_type": "markdown",
   "id": "07dadbb3-95f0-4a96-9c8e-903f8822a232",
   "metadata": {},
   "source": [
    "# 8.What are the values of the following expressions ?"
   ]
  },
  {
   "cell_type": "code",
   "execution_count": 8,
   "id": "0eb4ff8a-1fa3-4252-91ac-7474df17e74b",
   "metadata": {},
   "outputs": [
    {
     "data": {
      "text/plain": [
       "['Remember,', 'remember,', 'the', 'fifith', 'of', 'July.']"
      ]
     },
     "execution_count": 8,
     "metadata": {},
     "output_type": "execute_result"
    }
   ],
   "source": [
    "a = \"Remember, remember, the fifith of July.\"\n",
    "a.split()"
   ]
  },
  {
   "cell_type": "code",
   "execution_count": null,
   "id": "d36595d6-8180-45c9-9cd6-3e702f809eb4",
   "metadata": {},
   "outputs": [],
   "source": []
  },
  {
   "cell_type": "markdown",
   "id": "49edf21a-3a5e-4864-88fd-790d491ac52d",
   "metadata": {},
   "source": [
    "# 9.What are the methods for right-justifying, left-justifying and centering a string ?"
   ]
  },
  {
   "cell_type": "raw",
   "id": "6322a4db-874a-4412-9fa3-1ab146fd640a",
   "metadata": {},
   "source": [
    "rjust() for right justifying, ljust() for left-justifying and centre() "
   ]
  },
  {
   "cell_type": "code",
   "execution_count": null,
   "id": "d3500041-7aab-4972-8302-f342d17b15a5",
   "metadata": {},
   "outputs": [],
   "source": []
  },
  {
   "cell_type": "markdown",
   "id": "40171ebb-bacd-452b-ad6d-02fc6ca9230f",
   "metadata": {},
   "source": [
    "# 10.What is the best way to remove whitespace characters from the start or end ?"
   ]
  },
  {
   "cell_type": "raw",
   "id": "611eb423-b8ec-4e12-9cd2-0e25198c7ab2",
   "metadata": {},
   "source": [
    "The lstrip() and rstrip() methods remove whitesapce characters from the left and right ends of a string respectively"
   ]
  },
  {
   "cell_type": "code",
   "execution_count": null,
   "id": "64bf1dfe-30fb-4387-81f9-c85f6f63670d",
   "metadata": {},
   "outputs": [],
   "source": []
  }
 ],
 "metadata": {
  "kernelspec": {
   "display_name": "Python 3 (ipykernel)",
   "language": "python",
   "name": "python3"
  },
  "language_info": {
   "codemirror_mode": {
    "name": "ipython",
    "version": 3
   },
   "file_extension": ".py",
   "mimetype": "text/x-python",
   "name": "python",
   "nbconvert_exporter": "python",
   "pygments_lexer": "ipython3",
   "version": "3.10.6"
  }
 },
 "nbformat": 4,
 "nbformat_minor": 5
}
