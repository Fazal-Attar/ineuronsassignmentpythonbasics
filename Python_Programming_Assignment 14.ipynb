{
 "cells": [
  {
   "cell_type": "markdown",
   "id": "6ad945ed-b7a6-4386-9efc-22008b3abd29",
   "metadata": {},
   "source": [
    "# 1.Define a class with a generator which can iterate the numbers, which are divisible by 7, between a given range 0 and n. ?"
   ]
  },
  {
   "cell_type": "code",
   "execution_count": 6,
   "id": "383d82aa-4008-45f6-a9fc-407fbccafc04",
   "metadata": {},
   "outputs": [],
   "source": [
    "class divi_gen():\n",
    "    def __init__(self,num):\n",
    "        self.num = num\n",
    "    def div_num(self):\n",
    "        for i in range(self.num):\n",
    "            if i%7==0:\n",
    "                print(f\"{i} is divisible by 7\")\n",
    "                yield i\n",
    "        "
   ]
  },
  {
   "cell_type": "code",
   "execution_count": 7,
   "id": "f68dbe05-5a2c-48f0-9325-308258b612a6",
   "metadata": {},
   "outputs": [],
   "source": [
    "k = divi_gen(30)"
   ]
  },
  {
   "cell_type": "code",
   "execution_count": 11,
   "id": "e918a48d-f706-4e70-814d-51c905b23c0c",
   "metadata": {},
   "outputs": [
    {
     "name": "stdout",
     "output_type": "stream",
     "text": [
      "0 is divisible by 7\n",
      "0\n",
      "7 is divisible by 7\n",
      "7\n",
      "14 is divisible by 7\n",
      "14\n",
      "21 is divisible by 7\n",
      "21\n",
      "28 is divisible by 7\n",
      "28\n"
     ]
    }
   ],
   "source": [
    "for i in k.div_num():\n",
    "    print(i)"
   ]
  },
  {
   "cell_type": "code",
   "execution_count": null,
   "id": "17a34f32-8bd4-486a-99f6-c0c5507b2d9f",
   "metadata": {},
   "outputs": [],
   "source": []
  },
  {
   "cell_type": "markdown",
   "id": "8a28402d-336b-4f8f-a5e7-06f4e60b6d82",
   "metadata": {},
   "source": [
    "# 2.Write a program to compute the frequency of the words from the input. The output should output after sorting the key alphanumerically."
   ]
  },
  {
   "cell_type": "raw",
   "id": "6e245a9d-28c8-413b-a7a6-43839401df4d",
   "metadata": {},
   "source": [
    "Suppose the following input is supplied to the program: New to Python or choosing between Python 2 and Python 3? Read Python 2 or Python 3. Then, the output should be: 2:2 3.:1 3?:1 New:1 Python:5 Read:1 and:1 between:1 choosing:1 or:2 to:"
   ]
  },
  {
   "cell_type": "code",
   "execution_count": 28,
   "id": "a7d16c4d-de75-463e-992d-038da6e7b453",
   "metadata": {},
   "outputs": [],
   "source": [
    "def chk_freq():\n",
    "    string = \"New to Python or choosing between Python 2 and Python 3 ? Read Python 2 or Python 3\"\n",
    "    freq = {}\n",
    "    for ele in string.split(\" \"):\n",
    "        #print(ele)\n",
    "        if freq.get(ele)== None:\n",
    "            freq[ele]=1\n",
    "        else:\n",
    "            freq[ele]+=1\n",
    "    print(freq)\n",
    "            \n",
    "    \n",
    "    "
   ]
  },
  {
   "cell_type": "code",
   "execution_count": 29,
   "id": "f9fc143d-1b57-4fab-bc0c-b6a21bcdd104",
   "metadata": {},
   "outputs": [
    {
     "name": "stdout",
     "output_type": "stream",
     "text": [
      "{'New': 1, 'to': 1, 'Python': 5, 'or': 2, 'choosing': 1, 'between': 1, '2': 2, 'and': 1, '3': 2, '?': 1, 'Read': 1}\n"
     ]
    }
   ],
   "source": [
    "chk_freq()"
   ]
  },
  {
   "cell_type": "code",
   "execution_count": null,
   "id": "222e5feb-1b31-4001-a814-15f495d1b7d1",
   "metadata": {},
   "outputs": [],
   "source": []
  },
  {
   "cell_type": "markdown",
   "id": "253c4491-d17e-41d7-aa95-ebffa7906802",
   "metadata": {},
   "source": [
    "# 3.Define a class Person and its two child classes: Male and Female. All classes have a method \"getGender\" which can print \"Male\" for Male class and \"Female\" for Female class. ?"
   ]
  },
  {
   "cell_type": "code",
   "execution_count": 30,
   "id": "94ab9ce5-24cf-4af6-b040-ebc4453d0cd2",
   "metadata": {},
   "outputs": [],
   "source": [
    "class Person:\n",
    "    def getgender(self):\n",
    "        pass\n",
    "class Male(Person):\n",
    "    def getgender(self):\n",
    "        print(\"Male\")\n",
    "class Female(Person):\n",
    "    def getgender(self):\n",
    "        print(\"Female\")\n",
    "        "
   ]
  },
  {
   "cell_type": "code",
   "execution_count": 31,
   "id": "902ceb6a-5523-445e-8a88-474d24ee5514",
   "metadata": {},
   "outputs": [
    {
     "name": "stdout",
     "output_type": "stream",
     "text": [
      "Male\n"
     ]
    }
   ],
   "source": [
    "a = Male()\n",
    "a.getgender()"
   ]
  },
  {
   "cell_type": "code",
   "execution_count": 32,
   "id": "ba924f4a-318d-4e6d-845e-19a23f32af3c",
   "metadata": {},
   "outputs": [
    {
     "name": "stdout",
     "output_type": "stream",
     "text": [
      "Female\n"
     ]
    }
   ],
   "source": [
    "b = Female()\n",
    "b.getgender()"
   ]
  },
  {
   "cell_type": "code",
   "execution_count": null,
   "id": "4eb2fcbb-d54b-4a72-a9c9-b293404e421d",
   "metadata": {},
   "outputs": [],
   "source": []
  },
  {
   "cell_type": "markdown",
   "id": "f0bd1053-bb5e-40b7-bc94-ec33d89eac8d",
   "metadata": {},
   "source": [
    "# 4.Please write a program to generate all sentences where subject is in [\"I\", \"You\"] and verb is in [\"Play\", \"Love\"] and the object is in [\"Hockey\",\"Football\"] ?"
   ]
  },
  {
   "cell_type": "code",
   "execution_count": 35,
   "id": "85832eed-2548-4ed0-ae1c-bcf0f3be2990",
   "metadata": {},
   "outputs": [
    {
     "name": "stdout",
     "output_type": "stream",
     "text": [
      "I Play Hockey\n",
      "I Play Football\n",
      "I Love Hockey\n",
      "I Love Football\n",
      "You Play Hockey\n",
      "You Play Football\n",
      "You Love Hockey\n",
      "You Love Football\n"
     ]
    }
   ],
   "source": [
    "a = [\"I\", \"You\"]\n",
    "b= [\"Play\", \"Love\"]\n",
    "c = [\"Hockey\",\"Football\"]\n",
    "for i in a:\n",
    "    for j in b:\n",
    "        for k in c:\n",
    "            print(f\"{i} {j} {k}\")"
   ]
  },
  {
   "cell_type": "code",
   "execution_count": null,
   "id": "1e01b8cd-1c15-4086-a118-6bedab9dbb75",
   "metadata": {},
   "outputs": [],
   "source": []
  },
  {
   "cell_type": "markdown",
   "id": "f7fd8074-977c-4a97-a031-a20be503afa6",
   "metadata": {},
   "source": [
    "# 5. Please write a program to compress and decompress the string \"hello world!hello world!hello world!hello world!\""
   ]
  },
  {
   "cell_type": "code",
   "execution_count": null,
   "id": "adcbd3a4-22ee-462f-b283-4d2f0db2ffc6",
   "metadata": {},
   "outputs": [],
   "source": [
    "import zlib\n",
    "s = \"hello world!hello world!hello world!hello world!\"\n",
    "a = zlib.compress(s)\n",
    "print(f\"Compressed string = {a}\")\n",
    "b = zlib.decompress(string)\n",
    "print(f\"Decompressed String = {b}\")"
   ]
  },
  {
   "cell_type": "code",
   "execution_count": null,
   "id": "fab756a5-4d01-4b58-8356-3f0257d494d5",
   "metadata": {},
   "outputs": [],
   "source": []
  },
  {
   "cell_type": "markdown",
   "id": "51e7ad3f-c1e4-49de-8f97-d7ed52fede1d",
   "metadata": {},
   "source": []
  },
  {
   "cell_type": "code",
   "execution_count": null,
   "id": "a0120388-88ad-405c-9a10-53a4ba605ddd",
   "metadata": {},
   "outputs": [],
   "source": []
  }
 ],
 "metadata": {
  "kernelspec": {
   "display_name": "Python 3 (ipykernel)",
   "language": "python",
   "name": "python3"
  },
  "language_info": {
   "codemirror_mode": {
    "name": "ipython",
    "version": 3
   },
   "file_extension": ".py",
   "mimetype": "text/x-python",
   "name": "python",
   "nbconvert_exporter": "python",
   "pygments_lexer": "ipython3",
   "version": "3.10.6"
  }
 },
 "nbformat": 4,
 "nbformat_minor": 5
}
