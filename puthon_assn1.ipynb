{
 "cells": [
  {
   "cell_type": "raw",
   "id": "fea055c4-df27-4883-8c34-4f74f7fc95dd",
   "metadata": {},
   "source": [
    "#Assignment 1 --> Python basics\n",
    "1. In the below elements which of them are values or an expression? eg:- values can be\n",
    "integer or string and expressions will be mathematical operators.\n",
    "\n",
    "* - Arithmetic mmultiplication expressions\n",
    "'hello' - string values\n",
    "-87.8 - float values\n",
    "- - arithmetic(minus) expressions\n",
    "/ - arithmetic(division) expressions\n",
    "+ - arithmetic (add) expressions\n",
    "6 - Interger values"
   ]
  },
  {
   "cell_type": "code",
   "execution_count": null,
   "id": "5e874460-67c9-48aa-9597-214f891d94c0",
   "metadata": {},
   "outputs": [],
   "source": []
  },
  {
   "cell_type": "raw",
   "id": "7ed84b81-3e2d-4669-940f-12ba1d1b56f8",
   "metadata": {},
   "source": [
    "2. What is the difference between string and variable?\n",
    "\n",
    "String :\n",
    "String can be the sentence or word that can be used to store in a variable.\n",
    "String is defined inside a \" & ' .\n",
    "Whereas, \n",
    "Varible can be used to define a string & any integer number.\n",
    "\n",
    "For example:\n",
    "a = \"Hello\"\n",
    "In the above example, a is the variable that is defined to store a string \"Hello\""
   ]
  },
  {
   "cell_type": "code",
   "execution_count": null,
   "id": "44cbe7b0-1655-4b11-a2d5-c6d18406d0ab",
   "metadata": {},
   "outputs": [],
   "source": []
  },
  {
   "cell_type": "raw",
   "id": "4ce5d943-764d-4109-b0c1-711aa62669aa",
   "metadata": {},
   "source": [
    "3.Describe three different data types.\n",
    "\n",
    "Integer - Integer can be any number from 0 to n.\n",
    "          int is used to define the variable as integer\n",
    "          for eg. any number 1 to n\n",
    "          a = 2\n",
    "          type(a) --> int\n",
    "Float - Float can be any decimal number \n",
    "        any decimal number in a variable has a type float\n",
    "        for eg.\n",
    "        a = 2.1\n",
    "        type(a) --> float \n",
    "Complex number - Complex number can be combination of real number and imaginary number.\n",
    "                 for eg : 2 + 3j\n",
    "                          a=2+3j\n",
    "                          type(a) --> complex"
   ]
  },
  {
   "cell_type": "code",
   "execution_count": null,
   "id": "9de5df24-2886-442f-9994-a6acb1859cd0",
   "metadata": {},
   "outputs": [],
   "source": []
  },
  {
   "cell_type": "raw",
   "id": "9312c809-4f1e-4bdd-bb08-d44a7419ce8d",
   "metadata": {},
   "source": [
    "4. What is an expression made up of? What do all expressions do?\n",
    "\n",
    "The expression are made up of a operater and operand to produce some other values as result. for example, if there are different type of of operations in an expression then the operator will decide which operations to execute first.\n",
    "\n",
    "The example of the operators are : \n",
    "\n",
    "Arithmetic operator : \n",
    "The arithmetic operator are the combination of the operator & operations.\n",
    "for example: \n",
    "a / b --> / is division \n",
    "a % b --> % is modulo operator\n",
    "a - b --> - is minus operator\n",
    "a + b --> + is add operator or sum operator\n",
    "a ** b --> ** is exponentation\n",
    "a // b --> is Quotient operator\n",
    "\n",
    "Relational Operator : \n",
    "This operator can be used to define the define the relation between the operand.\n",
    "< --> less than\n",
    "> --> greater than\n",
    "== --> equal to \n",
    "!= --> not equal to\n",
    "\n",
    "BOOLEAN expression:\n",
    "This operator can be used to defined the flags in a expression.\n",
    "The boolean expression can be True or False.\n",
    "\n",
    "\n"
   ]
  },
  {
   "cell_type": "code",
   "execution_count": null,
   "id": "fd9b08ae-b20f-4d67-a08c-223388ee3aed",
   "metadata": {},
   "outputs": [],
   "source": []
  },
  {
   "cell_type": "raw",
   "id": "662ffb19-aa22-400c-b269-abe2ef0ceade",
   "metadata": {},
   "source": [
    "5. This assignment statements, like spam = 10. What is the difference between an\n",
    "expression and a statement?\n",
    "\n",
    "The expression is a combination of operator and operands to get the evaluted results.\n",
    "and statement cannot be used to get the evaluated results."
   ]
  },
  {
   "cell_type": "code",
   "execution_count": null,
   "id": "e4f859d8-c805-4de4-bbaa-a6be08ea18bc",
   "metadata": {},
   "outputs": [],
   "source": []
  },
  {
   "cell_type": "raw",
   "id": "c73ab289-e070-4f8a-9504-d67638113f88",
   "metadata": {},
   "source": [
    "6. After running the following code, what does the variable bacon contain?"
   ]
  },
  {
   "cell_type": "code",
   "execution_count": 7,
   "id": "e7945101-af74-45c5-9ff5-caf98f79e8f9",
   "metadata": {},
   "outputs": [
    {
     "name": "stdout",
     "output_type": "stream",
     "text": [
      "22\n"
     ]
    }
   ],
   "source": [
    "bacon = 22\n",
    "bacon + 1\n",
    "print(bacon)"
   ]
  },
  {
   "cell_type": "code",
   "execution_count": null,
   "id": "f756a674-8e46-4d42-81f0-d4e4847ce069",
   "metadata": {},
   "outputs": [],
   "source": []
  },
  {
   "cell_type": "raw",
   "id": "464e876f-52bb-49ab-97fb-d90fd3a955bd",
   "metadata": {},
   "source": [
    "7. What should the values of the following two terms be?"
   ]
  },
  {
   "cell_type": "code",
   "execution_count": 8,
   "id": "071c383e-c907-4a8c-9961-80ec86c176a8",
   "metadata": {},
   "outputs": [
    {
     "data": {
      "text/plain": [
       "'spamspamspam'"
      ]
     },
     "execution_count": 8,
     "metadata": {},
     "output_type": "execute_result"
    }
   ],
   "source": [
    "'spam' + 'spamspam'"
   ]
  },
  {
   "cell_type": "code",
   "execution_count": 9,
   "id": "ce67e3e9-81ca-44de-a9ab-2a2b7006e98b",
   "metadata": {},
   "outputs": [
    {
     "data": {
      "text/plain": [
       "'spamspamspam'"
      ]
     },
     "execution_count": 9,
     "metadata": {},
     "output_type": "execute_result"
    }
   ],
   "source": [
    "'spam'*3"
   ]
  },
  {
   "cell_type": "code",
   "execution_count": null,
   "id": "8e918d17-4bf2-41ec-91b9-43ea5b952439",
   "metadata": {},
   "outputs": [],
   "source": []
  },
  {
   "cell_type": "raw",
   "id": "d81fa41a-017d-4fc6-b475-ed9d7d7ac6ff",
   "metadata": {},
   "source": [
    "8. Why is eggs a valid variable name while 100 is invalid?\n",
    "Variable can be any strings or a single character, while interger cannot be used as variable.\n",
    "for example : eggs = 100 is a valid assignment of number to variable eggs whereas 100 = eggs will give you error"
   ]
  },
  {
   "cell_type": "code",
   "execution_count": null,
   "id": "3722e1d2-0bfd-4886-a966-b983fa5b6238",
   "metadata": {},
   "outputs": [],
   "source": []
  },
  {
   "cell_type": "raw",
   "id": "91f8763f-8cf0-49cb-9e1c-f53b67661109",
   "metadata": {},
   "source": [
    "9. What three functions can be used to get the integer, floating-point number, or string\n",
    "version of a value?\n",
    "int(), float() and str() can be used to get the integer, floating-point number, or string\n",
    "version of a value respectively."
   ]
  },
  {
   "cell_type": "code",
   "execution_count": null,
   "id": "bff09001-81c3-4a3a-83eb-dfb16af41798",
   "metadata": {},
   "outputs": [],
   "source": []
  },
  {
   "cell_type": "raw",
   "id": "262b145d-4647-425b-a7c2-1de6c93c9fb7",
   "metadata": {},
   "source": [
    "10. Why does this expression cause an error? How can you fix it?\n",
    "'I have eaten'+99+'burritos.'\n",
    "\n",
    "Concatenation works with str to str not str to int. So we can do it as below by removing ' ."
   ]
  },
  {
   "cell_type": "code",
   "execution_count": 14,
   "id": "166b2d06-f003-4f8a-8f6d-3fa599d1eae9",
   "metadata": {},
   "outputs": [
    {
     "data": {
      "text/plain": [
       "'I have eaten 99 burritos.'"
      ]
     },
     "execution_count": 14,
     "metadata": {},
     "output_type": "execute_result"
    }
   ],
   "source": [
    "'I have eaten 99 burritos.'"
   ]
  },
  {
   "cell_type": "code",
   "execution_count": null,
   "id": "e51cf4a5-2860-4021-b0ff-63ce4181d9c4",
   "metadata": {},
   "outputs": [],
   "source": []
  }
 ],
 "metadata": {
  "kernelspec": {
   "display_name": "Python 3 (ipykernel)",
   "language": "python",
   "name": "python3"
  },
  "language_info": {
   "codemirror_mode": {
    "name": "ipython",
    "version": 3
   },
   "file_extension": ".py",
   "mimetype": "text/x-python",
   "name": "python",
   "nbconvert_exporter": "python",
   "pygments_lexer": "ipython3",
   "version": "3.10.6"
  }
 },
 "nbformat": 4,
 "nbformat_minor": 5
}
