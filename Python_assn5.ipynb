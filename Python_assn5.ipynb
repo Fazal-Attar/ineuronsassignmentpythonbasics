{
 "cells": [
  {
   "cell_type": "markdown",
   "id": "141f1e19-54f7-4beb-9e76-7712945c3a26",
   "metadata": {},
   "source": [
    "# 1.What does an empty dictionary's code look like?"
   ]
  },
  {
   "cell_type": "raw",
   "id": "3d0f03c9-b001-4792-98d4-13b1fb78a7f0",
   "metadata": {},
   "source": [
    "{}"
   ]
  },
  {
   "cell_type": "code",
   "execution_count": null,
   "id": "28e83a7c-c130-4e5f-831b-551360bc7e01",
   "metadata": {},
   "outputs": [],
   "source": []
  },
  {
   "cell_type": "markdown",
   "id": "bfd8de75-6dfe-4b6c-b2f1-19d344b061be",
   "metadata": {},
   "source": [
    "# 2. what is the value of dictionary value with key 'foo' and the value 42 ?"
   ]
  },
  {
   "cell_type": "code",
   "execution_count": 1,
   "id": "9c67dbe0-7f58-4ffa-9b1f-11f892e4a5b8",
   "metadata": {},
   "outputs": [],
   "source": [
    "a = {\"foo\":42}"
   ]
  },
  {
   "cell_type": "code",
   "execution_count": null,
   "id": "bb7c1da3-8f36-4999-a0ec-eafa942f8c42",
   "metadata": {},
   "outputs": [],
   "source": []
  },
  {
   "cell_type": "markdown",
   "id": "cc324b3e-393d-4500-8587-1459572c3e72",
   "metadata": {},
   "source": [
    "# 3.What is the most significant distinction between a dictionary and a list?"
   ]
  },
  {
   "cell_type": "raw",
   "id": "981c2e1d-7937-4e43-8bdb-c0ac2722ce12",
   "metadata": {},
   "source": [
    "Dictionaries are defined in {} wheras list are defined in []. The item are not in sorted order in a dictionary and list has sorted ordered items"
   ]
  },
  {
   "cell_type": "code",
   "execution_count": null,
   "id": "613d2355-c2a2-477d-9c82-b48fdf07a871",
   "metadata": {},
   "outputs": [],
   "source": []
  },
  {
   "cell_type": "markdown",
   "id": "095b30b3-1950-4757-9587-e7131d7ed105",
   "metadata": {},
   "source": [
    "# 4. What happens if you try to access spam ['foo'] if spam is {'bar':100} ?"
   ]
  },
  {
   "cell_type": "raw",
   "id": "3946ab1f-25b4-4742-8fa8-bc89267eeb19",
   "metadata": {},
   "source": [
    "Will get a KeyError: 'foo'"
   ]
  },
  {
   "cell_type": "code",
   "execution_count": null,
   "id": "f3196570-dda4-4e24-a2d5-cdcfd7788895",
   "metadata": {},
   "outputs": [],
   "source": []
  },
  {
   "cell_type": "markdown",
   "id": "fa882aad-e0a7-4738-beb1-582c0b2e586e",
   "metadata": {},
   "source": [
    "# 5. if a dictionary is stored in spam,what is the difference between the expressions 'cat' in spam and 'cat' in spam.keys() ?"
   ]
  },
  {
   "cell_type": "raw",
   "id": "959bfbba-ef6f-4c8c-813c-8b476946beca",
   "metadata": {},
   "source": [
    " There is no difference . The operator checks whether a value exits as a key in the dictionary or not"
   ]
  },
  {
   "cell_type": "code",
   "execution_count": null,
   "id": "bec62916-c18c-44f0-b3dc-b0dd6c430f8e",
   "metadata": {},
   "outputs": [],
   "source": []
  },
  {
   "cell_type": "markdown",
   "id": "8400ff03-6e61-4a4c-8307-9790fd6e7d90",
   "metadata": {},
   "source": [
    "# 6.if a dictionary is stored in spam,what is the difference between the expressions 'cat' in spam and 'cat' in spam.values() ?"
   ]
  },
  {
   "cell_type": "raw",
   "id": "c8fc07a1-1b95-472a-b730-6057f0ad6dbd",
   "metadata": {},
   "source": [
    "'cat' in spam checks whether there is a 'cat' key in the dictionary, while 'cat' in spam.values() checks whether there is a value 'cat' for one of the keys in spam."
   ]
  },
  {
   "cell_type": "code",
   "execution_count": null,
   "id": "2dfd6ceb-307f-4cfd-9aca-634789ab8f30",
   "metadata": {},
   "outputs": [],
   "source": []
  },
  {
   "cell_type": "markdown",
   "id": "63dd4cc9-1c07-4495-8782-1e55a46b7409",
   "metadata": {},
   "source": [
    "# 7.what is a shortcut for the following code ?"
   ]
  },
  {
   "cell_type": "raw",
   "id": "c7460406-2b7c-4195-825c-29cbd11d97c6",
   "metadata": {},
   "source": [
    "spam.setdefault('color','black')"
   ]
  },
  {
   "cell_type": "code",
   "execution_count": null,
   "id": "59f626b7-5529-4a49-8b42-0fc14cbc324b",
   "metadata": {},
   "outputs": [],
   "source": []
  },
  {
   "cell_type": "markdown",
   "id": "b3951448-2ee4-4779-9d9f-01dcef3de407",
   "metadata": {},
   "source": [
    "# 8.How do you 'pretty print' dictionary values using which modules and function ?"
   ]
  },
  {
   "cell_type": "raw",
   "id": "1c6e632d-a374-4b7f-a36a-e05decb3d8eb",
   "metadata": {},
   "source": [
    "pprint() of the print module()"
   ]
  },
  {
   "cell_type": "code",
   "execution_count": null,
   "id": "f346ca42-8e47-469f-abc2-399416314182",
   "metadata": {},
   "outputs": [],
   "source": []
  }
 ],
 "metadata": {
  "kernelspec": {
   "display_name": "Python 3 (ipykernel)",
   "language": "python",
   "name": "python3"
  },
  "language_info": {
   "codemirror_mode": {
    "name": "ipython",
    "version": 3
   },
   "file_extension": ".py",
   "mimetype": "text/x-python",
   "name": "python",
   "nbconvert_exporter": "python",
   "pygments_lexer": "ipython3",
   "version": "3.10.6"
  }
 },
 "nbformat": 4,
 "nbformat_minor": 5
}
