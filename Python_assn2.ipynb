{
 "cells": [
  {
   "cell_type": "markdown",
   "id": "11c8c00d-5f3e-41cc-bad7-dcac7497ad4b",
   "metadata": {},
   "source": [
    "# 1.What are the two values of the Boolean data type? How do you write them?"
   ]
  },
  {
   "cell_type": "code",
   "execution_count": 2,
   "id": "c009cdc8-61c2-42d9-a957-d410d10825c4",
   "metadata": {},
   "outputs": [
    {
     "name": "stdout",
     "output_type": "stream",
     "text": [
      "True\n",
      "False\n"
     ]
    }
   ],
   "source": [
    "#Ans. True and False are two values of the Boolean DataType.\n",
    "a = True\n",
    "b = False\n",
    "print(a)\n",
    "print(b)"
   ]
  },
  {
   "cell_type": "code",
   "execution_count": null,
   "id": "16e563f2-1110-45e6-b4ae-55086959c0e6",
   "metadata": {},
   "outputs": [],
   "source": []
  },
  {
   "cell_type": "markdown",
   "id": "fb81b36e-8135-4dae-bf5c-bcad2d295dfd",
   "metadata": {},
   "source": [
    "# 2.What are the three different types of Boolean operators?"
   ]
  },
  {
   "cell_type": "code",
   "execution_count": 3,
   "id": "48b3eb53-8626-45e8-a4a2-a3fd38371f9a",
   "metadata": {},
   "outputs": [],
   "source": [
    "#Ans. AND OR & NOT are the Boolean Operators"
   ]
  },
  {
   "cell_type": "code",
   "execution_count": null,
   "id": "a58e1e96-ea03-495d-99a3-5fb241913588",
   "metadata": {},
   "outputs": [],
   "source": []
  },
  {
   "cell_type": "markdown",
   "id": "4d4f50a5-7f4c-414b-b080-6c8b82b6c505",
   "metadata": {},
   "source": [
    "# 3. Make a list of each Boolean operator's truth tables (i.e. every possible combination of Boolean values for the operator and what it evaluate) ?"
   ]
  },
  {
   "cell_type": "code",
   "execution_count": 4,
   "id": "bf697bf5-4ece-406a-86e5-d3226dd3ca69",
   "metadata": {},
   "outputs": [],
   "source": [
    "# ANS:\n",
    "# 1.Truth Table for AND operaotor\n",
    "# True and True is True\n",
    "# True and False is False\n",
    "# False and True is False\n",
    "# False and False is False\n",
    "\n",
    "# 2.Truth Table for OR operaotor\n",
    "# True and True is True\n",
    "# True and False is True\n",
    "# False and True is True\n",
    "# False and False is False\n",
    "\n",
    "# 3.Truth Table for NOT operaotor\n",
    "# True not is False False not is True"
   ]
  },
  {
   "cell_type": "code",
   "execution_count": null,
   "id": "025c9d83-1a37-4559-9a52-21bff2e943a2",
   "metadata": {},
   "outputs": [],
   "source": []
  },
  {
   "cell_type": "markdown",
   "id": "246bb17f-b3e5-4985-b405-9ac7a9e578e2",
   "metadata": {},
   "source": [
    "# 4. What are the values of the following expressions ?"
   ]
  },
  {
   "cell_type": "code",
   "execution_count": 6,
   "id": "4b1ee5cf-a155-42ac-ba37-989f6d30f88d",
   "metadata": {},
   "outputs": [
    {
     "name": "stdout",
     "output_type": "stream",
     "text": [
      "False\n"
     ]
    }
   ],
   "source": [
    "print((5 > 4) and (3 == 5))"
   ]
  },
  {
   "cell_type": "code",
   "execution_count": 8,
   "id": "5c05b036-5db6-4d8b-924e-f3d9d4e7b1f6",
   "metadata": {},
   "outputs": [
    {
     "name": "stdout",
     "output_type": "stream",
     "text": [
      "False\n"
     ]
    }
   ],
   "source": [
    "print(not (5 > 4))"
   ]
  },
  {
   "cell_type": "code",
   "execution_count": 9,
   "id": "2e9711bc-1dc2-42a1-aba7-2059190dabf7",
   "metadata": {},
   "outputs": [
    {
     "name": "stdout",
     "output_type": "stream",
     "text": [
      "True\n"
     ]
    }
   ],
   "source": [
    "print((5 > 4) or (3 == 5))"
   ]
  },
  {
   "cell_type": "code",
   "execution_count": 10,
   "id": "e45660c7-a1e0-4121-a90a-3775bbb8cfc8",
   "metadata": {},
   "outputs": [
    {
     "name": "stdout",
     "output_type": "stream",
     "text": [
      "False\n"
     ]
    }
   ],
   "source": [
    "print((not ((5 > 4) or (3 == 5))))"
   ]
  },
  {
   "cell_type": "code",
   "execution_count": 11,
   "id": "45a2730c-0131-474e-8b05-bdec253f8e9a",
   "metadata": {},
   "outputs": [
    {
     "name": "stdout",
     "output_type": "stream",
     "text": [
      "False\n"
     ]
    }
   ],
   "source": [
    "print((True and True) and (True == False))"
   ]
  },
  {
   "cell_type": "code",
   "execution_count": 12,
   "id": "0a1542fe-d937-455e-9170-d737b15bfd1e",
   "metadata": {},
   "outputs": [
    {
     "name": "stdout",
     "output_type": "stream",
     "text": [
      "True\n"
     ]
    }
   ],
   "source": [
    "print((not False) or (not True))"
   ]
  },
  {
   "cell_type": "code",
   "execution_count": null,
   "id": "75526635-8f53-4b41-8098-132af28c5c50",
   "metadata": {},
   "outputs": [],
   "source": []
  },
  {
   "cell_type": "markdown",
   "id": "291b1e67-a0a0-48a8-97ac-c1e0c71949a9",
   "metadata": {},
   "source": [
    "# 5. What are the six comparison operators?"
   ]
  },
  {
   "cell_type": "code",
   "execution_count": 13,
   "id": "e7b2a5c6-dc64-4f4c-8e93-c008bd59344f",
   "metadata": {},
   "outputs": [],
   "source": [
    "# Ans : <,>,=<,=>,!=,==\n"
   ]
  },
  {
   "cell_type": "code",
   "execution_count": null,
   "id": "bd991602-1e46-47d7-b86e-55c9f1e1e53a",
   "metadata": {},
   "outputs": [],
   "source": []
  },
  {
   "cell_type": "markdown",
   "id": "40ed4d86-39e1-4358-8d46-1f071cf1f830",
   "metadata": {},
   "source": [
    "# 6. How do you tell the difference between the equal to and assignment operators?Describe a condition and when you would use one ?"
   ]
  },
  {
   "cell_type": "code",
   "execution_count": 14,
   "id": "90c0b07c-c20f-40b6-941b-f1f0b29db89e",
   "metadata": {},
   "outputs": [],
   "source": [
    "# Ans. = is used to assign the value to a variable \n",
    "# == is used for the comparison of values"
   ]
  },
  {
   "cell_type": "code",
   "execution_count": 17,
   "id": "0b3132f8-2ff9-4271-8d43-9bedc40d57da",
   "metadata": {},
   "outputs": [
    {
     "name": "stdout",
     "output_type": "stream",
     "text": [
      "False\n"
     ]
    }
   ],
   "source": [
    "x = 4 ## used to assign the value\n",
    "if x == 2: ## used for comparison\n",
    "    print(True)\n",
    "else:\n",
    "    print(False)"
   ]
  },
  {
   "cell_type": "code",
   "execution_count": null,
   "id": "4ff85687-1250-41af-979c-a0f2a4f62ea7",
   "metadata": {},
   "outputs": [],
   "source": []
  },
  {
   "cell_type": "markdown",
   "id": "a3e23d76-c8a8-4be5-bbb9-25731f9a2131",
   "metadata": {},
   "source": [
    "# 7. Identify the three blocks in this code:"
   ]
  },
  {
   "cell_type": "code",
   "execution_count": 18,
   "id": "21b0bc59-163b-4240-8c03-8d61adc553b3",
   "metadata": {},
   "outputs": [],
   "source": [
    "# Ans. code block refers to a collection of code that is in the same block or indent. This is most commonly found in classes, functions, and loops."
   ]
  },
  {
   "cell_type": "code",
   "execution_count": null,
   "id": "4678e6cd-a1cf-4af5-af7e-307aed242229",
   "metadata": {},
   "outputs": [],
   "source": []
  },
  {
   "cell_type": "markdown",
   "id": "3a0f15b9-5eae-4e0e-833d-ac817315dedb",
   "metadata": {},
   "source": [
    "# 8.Write code that prints Hello if 1 is stored in spam, prints Howdy if 2 is stored in spam, and prints Greetings! if anything else is stored in spam"
   ]
  },
  {
   "cell_type": "code",
   "execution_count": 21,
   "id": "88957500-9e87-42cf-8c19-c7b8a471f9d5",
   "metadata": {},
   "outputs": [
    {
     "name": "stdin",
     "output_type": "stream",
     "text": [
      "Enter the value of spam 2\n"
     ]
    },
    {
     "name": "stdout",
     "output_type": "stream",
     "text": [
      "Howdy\n"
     ]
    }
   ],
   "source": [
    "spam = int(input(\"Enter the value of spam\"))\n",
    "if spam==1:\n",
    "    print(\"Hello\")\n",
    "elif spam == 2:\n",
    "    print(\"Howdy\")\n",
    "else:\n",
    "    print(\"Greetings\")"
   ]
  },
  {
   "cell_type": "code",
   "execution_count": null,
   "id": "2a387796-afde-438a-b613-a8c850b4d4a0",
   "metadata": {},
   "outputs": [],
   "source": []
  },
  {
   "cell_type": "markdown",
   "id": "229f90a2-b58e-419f-9ac4-61b12d34734b",
   "metadata": {},
   "source": [
    "# 9.If your programme is stuck in an endless loop, what keys you’ll press?"
   ]
  },
  {
   "cell_type": "code",
   "execution_count": 22,
   "id": "57496e70-f353-4a0e-b715-9a605d6b0961",
   "metadata": {},
   "outputs": [],
   "source": [
    "# Ans. Ctrl + C"
   ]
  },
  {
   "cell_type": "code",
   "execution_count": null,
   "id": "8dc77e26-fc40-49ca-938f-bf0854dddf48",
   "metadata": {},
   "outputs": [],
   "source": []
  },
  {
   "cell_type": "markdown",
   "id": "baa28eb8-8fe7-4fb7-be0c-94c25c2d70d0",
   "metadata": {},
   "source": [
    "# 10. How can you tell the difference between break and continue?"
   ]
  },
  {
   "cell_type": "raw",
   "id": "89456892-aecd-42ad-adc9-2e20c6a899e2",
   "metadata": {},
   "source": [
    "Ans. Break is used to exit from the loop if the condition is satisfied & continue is used to start over the execution of the loop"
   ]
  },
  {
   "cell_type": "code",
   "execution_count": null,
   "id": "99459e0c-74d3-4c4d-b6eb-43306a50f69d",
   "metadata": {},
   "outputs": [],
   "source": []
  },
  {
   "cell_type": "markdown",
   "id": "87bc9c07-68d4-4745-957f-e3e48b8a0cfa",
   "metadata": {},
   "source": [
    "# 11. In a for loop, what is the difference between range(10), range(0, 10), and range(0, 10, 1)?"
   ]
  },
  {
   "cell_type": "raw",
   "id": "1bb45d07-9584-478f-b373-31ff5c4aada7",
   "metadata": {},
   "source": [
    "Ans. Range(10) - The loop will execute 10 times\n",
    "range(0,10) - The loop will start the execution from 0\n",
    "range(0,10,1) - The loop will start the execution from 0 to 10 with variable increase by 1 on every iteration"
   ]
  },
  {
   "cell_type": "code",
   "execution_count": null,
   "id": "defa8127-eadc-4565-9c81-0ee016611ab9",
   "metadata": {},
   "outputs": [],
   "source": []
  },
  {
   "cell_type": "markdown",
   "id": "599922fe-01a6-48ab-948c-dbd7d1127f07",
   "metadata": {},
   "source": [
    "# 12. Write a short program that prints the numbers 1 to 10 using a for loop. Then write an equivalent program that prints the numbers 1 to 10 using a while loop ?"
   ]
  },
  {
   "cell_type": "code",
   "execution_count": 26,
   "id": "55366e8e-32fe-48ad-87f4-9ad2bd953103",
   "metadata": {},
   "outputs": [
    {
     "name": "stdout",
     "output_type": "stream",
     "text": [
      "1\n",
      "2\n",
      "3\n",
      "4\n",
      "5\n",
      "6\n",
      "7\n",
      "8\n",
      "9\n"
     ]
    }
   ],
   "source": [
    "for i in range(1,10):\n",
    "    print(i)"
   ]
  },
  {
   "cell_type": "code",
   "execution_count": 3,
   "id": "9362938f-6745-4f43-9757-c660cf7a3651",
   "metadata": {},
   "outputs": [
    {
     "name": "stdout",
     "output_type": "stream",
     "text": [
      "1\n",
      "2\n",
      "3\n",
      "4\n",
      "5\n",
      "6\n",
      "7\n",
      "8\n",
      "9\n"
     ]
    }
   ],
   "source": [
    "i= 1\n",
    "while i < 10 :\n",
    "    print(i)\n",
    "    i = i + 1"
   ]
  },
  {
   "cell_type": "code",
   "execution_count": null,
   "id": "4545f8e8-9940-4b1a-bcf3-65840927108c",
   "metadata": {},
   "outputs": [],
   "source": []
  },
  {
   "cell_type": "markdown",
   "id": "0b97f532-0116-4c12-b082-33056e3315df",
   "metadata": {},
   "source": [
    "# 13. If you had a function named bacon() inside a module named spam, how would you call it after importing spam ?"
   ]
  },
  {
   "cell_type": "raw",
   "id": "407202de-6722-44c4-aa56-6d92099e2c7f",
   "metadata": {},
   "source": [
    "Ans. It can be called as spam.bacon()"
   ]
  },
  {
   "cell_type": "code",
   "execution_count": null,
   "id": "3deb81a6-1287-4477-a2b7-635b3e3dbae3",
   "metadata": {},
   "outputs": [],
   "source": []
  }
 ],
 "metadata": {
  "kernelspec": {
   "display_name": "Python 3 (ipykernel)",
   "language": "python",
   "name": "python3"
  },
  "language_info": {
   "codemirror_mode": {
    "name": "ipython",
    "version": 3
   },
   "file_extension": ".py",
   "mimetype": "text/x-python",
   "name": "python",
   "nbconvert_exporter": "python",
   "pygments_lexer": "ipython3",
   "version": "3.10.6"
  }
 },
 "nbformat": 4,
 "nbformat_minor": 5
}
